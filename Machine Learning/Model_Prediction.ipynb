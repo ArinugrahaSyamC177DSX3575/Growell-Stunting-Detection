{
  "nbformat": 4,
  "nbformat_minor": 0,
  "metadata": {
    "colab": {
      "provenance": []
    },
    "kernelspec": {
      "name": "python3",
      "display_name": "Python 3"
    },
    "language_info": {
      "name": "python"
    }
  },
  "cells": [
    {
      "cell_type": "code",
      "execution_count": 1,
      "metadata": {
        "id": "A2qFFTkQhtwy"
      },
      "outputs": [],
      "source": [
        "import tensorflow as tf\n",
        "import numpy as np\n",
        "import pandas as pd"
      ]
    },
    {
      "cell_type": "code",
      "source": [
        "input_data = np.array(['Alex','L', 28, 6, 80])\n",
        "input_data = input_data[1:]\n",
        "print(input_data)"
      ],
      "metadata": {
        "colab": {
          "base_uri": "https://localhost:8080/"
        },
        "id": "UUcQAP5CiCVa",
        "outputId": "403d1a97-0c98-446b-8b3d-e76514e70d60"
      },
      "execution_count": 2,
      "outputs": [
        {
          "output_type": "stream",
          "name": "stdout",
          "text": [
            "['L' '28' '6' '80']\n"
          ]
        }
      ]
    },
    {
      "cell_type": "markdown",
      "source": [
        "Data Processing"
      ],
      "metadata": {
        "id": "T_QvUkQNj17f"
      }
    },
    {
      "cell_type": "code",
      "source": [
        "input_data = input_data[1:]"
      ],
      "metadata": {
        "id": "vxXySUTRjKRE"
      },
      "execution_count": 3,
      "outputs": []
    },
    {
      "cell_type": "code",
      "source": [
        "# One-hot encode the first element\n",
        "one_hot_encoded = np.where(input_data[0] == 'L', [0.0, 1.0], [1.0, 0.0])\n",
        "\n",
        "# Convert the remaining elements to float\n",
        "remaining_elements = input_data[0:].astype(float)\n",
        "\n",
        "# Concatenate the arrays\n",
        "input_data = np.concatenate([one_hot_encoded, remaining_elements])\n",
        "\n",
        "print(input_data)"
      ],
      "metadata": {
        "colab": {
          "base_uri": "https://localhost:8080/"
        },
        "id": "vTV7PM_-rvpH",
        "outputId": "22ce1c10-7425-4c2b-ce7e-8ced19664d9b"
      },
      "execution_count": 4,
      "outputs": [
        {
          "output_type": "stream",
          "name": "stdout",
          "text": [
            "[ 1.  0. 28.  6. 80.]\n"
          ]
        }
      ]
    },
    {
      "cell_type": "code",
      "source": [
        "from sklearn.preprocessing import StandardScaler\n",
        "\n",
        "# Buat objek StandardScaler\n",
        "scaler = StandardScaler()\n",
        "\n",
        "# Ubah bentuk array menjadi matriks kolom\n",
        "array_reshaped = input_data.reshape(-1, 1)\n",
        "\n",
        "# Fitting dan transformasi menggunakan StandardScaler kecuali elemen pertama dan kedua\n",
        "scaled_array = np.copy(input_data)\n",
        "scaled_array[2:] = scaler.fit_transform(array_reshaped[2:]).flatten()\n",
        "\n",
        "print(scaled_array)"
      ],
      "metadata": {
        "colab": {
          "base_uri": "https://localhost:8080/"
        },
        "id": "oM3EDeBwzoMM",
        "outputId": "d74e78a6-4510-4e23-d99e-92e47e9df9af"
      },
      "execution_count": 5,
      "outputs": [
        {
          "output_type": "stream",
          "name": "stdout",
          "text": [
            "[ 1.          0.         -0.32230128 -1.0313641   1.35366538]\n"
          ]
        }
      ]
    },
    {
      "cell_type": "code",
      "source": [
        "#from google.colab import files\n",
        "#uploaded = files.upload()"
      ],
      "metadata": {
        "id": "OJ_V9ND-h8GZ"
      },
      "execution_count": 6,
      "outputs": []
    },
    {
      "cell_type": "code",
      "source": [
        "model = tf.keras.models.load_model('model.h5')"
      ],
      "metadata": {
        "id": "BImP9tcf5gm4"
      },
      "execution_count": 7,
      "outputs": []
    },
    {
      "cell_type": "code",
      "source": [
        "# Menambahkan dimensi tambahan pada input data\n",
        "input_data = scaled_array.reshape(1, -1)  # Menjadi berdimensi (1, 4)\n",
        "\n",
        "# Ubah data input menjadi tensor TensorFlow\n",
        "input_data = tf.convert_to_tensor(input_data, dtype=tf.float32)"
      ],
      "metadata": {
        "id": "uSddCBJvmSMb"
      },
      "execution_count": 8,
      "outputs": []
    },
    {
      "cell_type": "code",
      "source": [
        "prediction = model.predict(input_data)\n",
        "print(prediction)\n",
        "if prediction > 0.5:\n",
        "  print('Tidak Stunting')\n",
        "else:\n",
        "  print('Stunting')"
      ],
      "metadata": {
        "colab": {
          "base_uri": "https://localhost:8080/"
        },
        "id": "7NOgC3vkxRPd",
        "outputId": "de3d8ced-4182-4026-dfb7-106426a4109a"
      },
      "execution_count": 9,
      "outputs": [
        {
          "output_type": "stream",
          "name": "stdout",
          "text": [
            "1/1 [==============================] - 0s 157ms/step\n",
            "[[0.38263237]]\n",
            "Stunting\n"
          ]
        }
      ]
    },
    {
      "cell_type": "code",
      "source": [],
      "metadata": {
        "id": "KFC7FHpMPqw0"
      },
      "execution_count": 9,
      "outputs": []
    }
  ]
}