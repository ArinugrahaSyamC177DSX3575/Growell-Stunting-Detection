{
  "nbformat": 4,
  "nbformat_minor": 0,
  "metadata": {
    "colab": {
      "provenance": []
    },
    "kernelspec": {
      "name": "python3",
      "display_name": "Python 3"
    },
    "language_info": {
      "name": "python"
    }
  },
  "cells": [
    {
      "cell_type": "markdown",
      "source": [
        "#**Stunting Classification Using Neural Network**\n",
        "\n",
        "---\n",
        "\n"
      ],
      "metadata": {
        "id": "vqSjnjIagxm1"
      }
    },
    {
      "cell_type": "code",
      "execution_count": null,
      "metadata": {
        "id": "Lq7Iq105qd-l"
      },
      "outputs": [],
      "source": [
        "import pandas as pd\n",
        "import numpy as np\n",
        "import tensorflow as tf"
      ]
    },
    {
      "cell_type": "code",
      "source": [
        "!ls"
      ],
      "metadata": {
        "id": "rJB27t0pqlQ6",
        "colab": {
          "base_uri": "https://localhost:8080/"
        },
        "outputId": "7718cb29-48b7-4099-f0cf-f3c79203c781"
      },
      "execution_count": null,
      "outputs": [
        {
          "output_type": "stream",
          "name": "stdout",
          "text": [
            "sample_data\n"
          ]
        }
      ]
    },
    {
      "cell_type": "markdown",
      "source": [
        "# **Import Dataset**"
      ],
      "metadata": {
        "id": "Ng9eUBPef0t8"
      }
    },
    {
      "cell_type": "code",
      "source": [
        "from google.colab import files\n",
        "uploaded = files.upload()"
      ],
      "metadata": {
        "colab": {
          "base_uri": "https://localhost:8080/",
          "height": 73
        },
        "id": "fckgCyjeupCh",
        "outputId": "71f7de8b-59f3-4f9b-8bcd-b3494bb5f3f8"
      },
      "execution_count": null,
      "outputs": [
        {
          "output_type": "display_data",
          "data": {
            "text/plain": [
              "<IPython.core.display.HTML object>"
            ],
            "text/html": [
              "\n",
              "     <input type=\"file\" id=\"files-7190105a-f501-433a-9492-f16f32001035\" name=\"files[]\" multiple disabled\n",
              "        style=\"border:none\" />\n",
              "     <output id=\"result-7190105a-f501-433a-9492-f16f32001035\">\n",
              "      Upload widget is only available when the cell has been executed in the\n",
              "      current browser session. Please rerun this cell to enable.\n",
              "      </output>\n",
              "      <script>// Copyright 2017 Google LLC\n",
              "//\n",
              "// Licensed under the Apache License, Version 2.0 (the \"License\");\n",
              "// you may not use this file except in compliance with the License.\n",
              "// You may obtain a copy of the License at\n",
              "//\n",
              "//      http://www.apache.org/licenses/LICENSE-2.0\n",
              "//\n",
              "// Unless required by applicable law or agreed to in writing, software\n",
              "// distributed under the License is distributed on an \"AS IS\" BASIS,\n",
              "// WITHOUT WARRANTIES OR CONDITIONS OF ANY KIND, either express or implied.\n",
              "// See the License for the specific language governing permissions and\n",
              "// limitations under the License.\n",
              "\n",
              "/**\n",
              " * @fileoverview Helpers for google.colab Python module.\n",
              " */\n",
              "(function(scope) {\n",
              "function span(text, styleAttributes = {}) {\n",
              "  const element = document.createElement('span');\n",
              "  element.textContent = text;\n",
              "  for (const key of Object.keys(styleAttributes)) {\n",
              "    element.style[key] = styleAttributes[key];\n",
              "  }\n",
              "  return element;\n",
              "}\n",
              "\n",
              "// Max number of bytes which will be uploaded at a time.\n",
              "const MAX_PAYLOAD_SIZE = 100 * 1024;\n",
              "\n",
              "function _uploadFiles(inputId, outputId) {\n",
              "  const steps = uploadFilesStep(inputId, outputId);\n",
              "  const outputElement = document.getElementById(outputId);\n",
              "  // Cache steps on the outputElement to make it available for the next call\n",
              "  // to uploadFilesContinue from Python.\n",
              "  outputElement.steps = steps;\n",
              "\n",
              "  return _uploadFilesContinue(outputId);\n",
              "}\n",
              "\n",
              "// This is roughly an async generator (not supported in the browser yet),\n",
              "// where there are multiple asynchronous steps and the Python side is going\n",
              "// to poll for completion of each step.\n",
              "// This uses a Promise to block the python side on completion of each step,\n",
              "// then passes the result of the previous step as the input to the next step.\n",
              "function _uploadFilesContinue(outputId) {\n",
              "  const outputElement = document.getElementById(outputId);\n",
              "  const steps = outputElement.steps;\n",
              "\n",
              "  const next = steps.next(outputElement.lastPromiseValue);\n",
              "  return Promise.resolve(next.value.promise).then((value) => {\n",
              "    // Cache the last promise value to make it available to the next\n",
              "    // step of the generator.\n",
              "    outputElement.lastPromiseValue = value;\n",
              "    return next.value.response;\n",
              "  });\n",
              "}\n",
              "\n",
              "/**\n",
              " * Generator function which is called between each async step of the upload\n",
              " * process.\n",
              " * @param {string} inputId Element ID of the input file picker element.\n",
              " * @param {string} outputId Element ID of the output display.\n",
              " * @return {!Iterable<!Object>} Iterable of next steps.\n",
              " */\n",
              "function* uploadFilesStep(inputId, outputId) {\n",
              "  const inputElement = document.getElementById(inputId);\n",
              "  inputElement.disabled = false;\n",
              "\n",
              "  const outputElement = document.getElementById(outputId);\n",
              "  outputElement.innerHTML = '';\n",
              "\n",
              "  const pickedPromise = new Promise((resolve) => {\n",
              "    inputElement.addEventListener('change', (e) => {\n",
              "      resolve(e.target.files);\n",
              "    });\n",
              "  });\n",
              "\n",
              "  const cancel = document.createElement('button');\n",
              "  inputElement.parentElement.appendChild(cancel);\n",
              "  cancel.textContent = 'Cancel upload';\n",
              "  const cancelPromise = new Promise((resolve) => {\n",
              "    cancel.onclick = () => {\n",
              "      resolve(null);\n",
              "    };\n",
              "  });\n",
              "\n",
              "  // Wait for the user to pick the files.\n",
              "  const files = yield {\n",
              "    promise: Promise.race([pickedPromise, cancelPromise]),\n",
              "    response: {\n",
              "      action: 'starting',\n",
              "    }\n",
              "  };\n",
              "\n",
              "  cancel.remove();\n",
              "\n",
              "  // Disable the input element since further picks are not allowed.\n",
              "  inputElement.disabled = true;\n",
              "\n",
              "  if (!files) {\n",
              "    return {\n",
              "      response: {\n",
              "        action: 'complete',\n",
              "      }\n",
              "    };\n",
              "  }\n",
              "\n",
              "  for (const file of files) {\n",
              "    const li = document.createElement('li');\n",
              "    li.append(span(file.name, {fontWeight: 'bold'}));\n",
              "    li.append(span(\n",
              "        `(${file.type || 'n/a'}) - ${file.size} bytes, ` +\n",
              "        `last modified: ${\n",
              "            file.lastModifiedDate ? file.lastModifiedDate.toLocaleDateString() :\n",
              "                                    'n/a'} - `));\n",
              "    const percent = span('0% done');\n",
              "    li.appendChild(percent);\n",
              "\n",
              "    outputElement.appendChild(li);\n",
              "\n",
              "    const fileDataPromise = new Promise((resolve) => {\n",
              "      const reader = new FileReader();\n",
              "      reader.onload = (e) => {\n",
              "        resolve(e.target.result);\n",
              "      };\n",
              "      reader.readAsArrayBuffer(file);\n",
              "    });\n",
              "    // Wait for the data to be ready.\n",
              "    let fileData = yield {\n",
              "      promise: fileDataPromise,\n",
              "      response: {\n",
              "        action: 'continue',\n",
              "      }\n",
              "    };\n",
              "\n",
              "    // Use a chunked sending to avoid message size limits. See b/62115660.\n",
              "    let position = 0;\n",
              "    do {\n",
              "      const length = Math.min(fileData.byteLength - position, MAX_PAYLOAD_SIZE);\n",
              "      const chunk = new Uint8Array(fileData, position, length);\n",
              "      position += length;\n",
              "\n",
              "      const base64 = btoa(String.fromCharCode.apply(null, chunk));\n",
              "      yield {\n",
              "        response: {\n",
              "          action: 'append',\n",
              "          file: file.name,\n",
              "          data: base64,\n",
              "        },\n",
              "      };\n",
              "\n",
              "      let percentDone = fileData.byteLength === 0 ?\n",
              "          100 :\n",
              "          Math.round((position / fileData.byteLength) * 100);\n",
              "      percent.textContent = `${percentDone}% done`;\n",
              "\n",
              "    } while (position < fileData.byteLength);\n",
              "  }\n",
              "\n",
              "  // All done.\n",
              "  yield {\n",
              "    response: {\n",
              "      action: 'complete',\n",
              "    }\n",
              "  };\n",
              "}\n",
              "\n",
              "scope.google = scope.google || {};\n",
              "scope.google.colab = scope.google.colab || {};\n",
              "scope.google.colab._files = {\n",
              "  _uploadFiles,\n",
              "  _uploadFilesContinue,\n",
              "};\n",
              "})(self);\n",
              "</script> "
            ]
          },
          "metadata": {}
        },
        {
          "output_type": "stream",
          "name": "stdout",
          "text": [
            "Saving Data Stunting.xlsx to Data Stunting.xlsx\n"
          ]
        }
      ]
    },
    {
      "cell_type": "code",
      "source": [
        "# Impor dataset dari file Excel\n",
        "df = pd.read_excel('Data Stunting.xlsx')"
      ],
      "metadata": {
        "id": "S0SXqY0urj4y"
      },
      "execution_count": null,
      "outputs": []
    },
    {
      "cell_type": "code",
      "source": [
        "# Call dataset\n",
        "df"
      ],
      "metadata": {
        "colab": {
          "base_uri": "https://localhost:8080/",
          "height": 424
        },
        "id": "o1oz9qmDEebS",
        "outputId": "25b11c60-7644-49c8-d346-e608e3c5e828"
      },
      "execution_count": null,
      "outputs": [
        {
          "output_type": "execute_result",
          "data": {
            "text/plain": [
              "                              Nama  JK       Usia  Berat Tinggi  \\\n",
              "0            FAISAL FAKIH RUKMANA   L    2.466667    4.9     58   \n",
              "1     MUHAMMAD HAFIDZ ATHAFARIZ S   L   58.466667   17.0    109   \n",
              "2              VIONA FEBBY YASMIN   P    5.166667    7.1   68.5   \n",
              "3            GHEGHE KALISTA PUTRI   P   45.300000   13.8     95   \n",
              "4        LINGGA OKTAVIAN WIRATAMA   L   53.633333   18.6    106   \n",
              "...                            ...  ..        ...    ...    ...   \n",
              "6672                  KAUTSARRAKY   L    0.000000    3.0     50   \n",
              "6673                     ALEENA H   P    0.000000    3.0     50   \n",
              "6674                      M EMRAN   L    0.000000    3.0     50   \n",
              "6675                   REZVAN A P   L    0.000000    3.0     50   \n",
              "6676     APRIANZA QEISYAM GUNAWAN   L    0.000000    2.8     48   \n",
              "\n",
              "              Status  \n",
              "0     Tidak Stunting  \n",
              "1     Tidak Stunting  \n",
              "2     Tidak Stunting  \n",
              "3     Tidak Stunting  \n",
              "4     Tidak Stunting  \n",
              "...              ...  \n",
              "6672  Tidak Stunting  \n",
              "6673  Tidak Stunting  \n",
              "6674        Stunting  \n",
              "6675  Tidak Stunting  \n",
              "6676  Tidak Stunting  \n",
              "\n",
              "[6677 rows x 6 columns]"
            ],
            "text/html": [
              "\n",
              "  <div id=\"df-65fef503-8bd1-46f8-891c-d53616caa0c1\">\n",
              "    <div class=\"colab-df-container\">\n",
              "      <div>\n",
              "<style scoped>\n",
              "    .dataframe tbody tr th:only-of-type {\n",
              "        vertical-align: middle;\n",
              "    }\n",
              "\n",
              "    .dataframe tbody tr th {\n",
              "        vertical-align: top;\n",
              "    }\n",
              "\n",
              "    .dataframe thead th {\n",
              "        text-align: right;\n",
              "    }\n",
              "</style>\n",
              "<table border=\"1\" class=\"dataframe\">\n",
              "  <thead>\n",
              "    <tr style=\"text-align: right;\">\n",
              "      <th></th>\n",
              "      <th>Nama</th>\n",
              "      <th>JK</th>\n",
              "      <th>Usia</th>\n",
              "      <th>Berat</th>\n",
              "      <th>Tinggi</th>\n",
              "      <th>Status</th>\n",
              "    </tr>\n",
              "  </thead>\n",
              "  <tbody>\n",
              "    <tr>\n",
              "      <th>0</th>\n",
              "      <td>FAISAL FAKIH RUKMANA</td>\n",
              "      <td>L</td>\n",
              "      <td>2.466667</td>\n",
              "      <td>4.9</td>\n",
              "      <td>58</td>\n",
              "      <td>Tidak Stunting</td>\n",
              "    </tr>\n",
              "    <tr>\n",
              "      <th>1</th>\n",
              "      <td>MUHAMMAD HAFIDZ ATHAFARIZ S</td>\n",
              "      <td>L</td>\n",
              "      <td>58.466667</td>\n",
              "      <td>17.0</td>\n",
              "      <td>109</td>\n",
              "      <td>Tidak Stunting</td>\n",
              "    </tr>\n",
              "    <tr>\n",
              "      <th>2</th>\n",
              "      <td>VIONA FEBBY YASMIN</td>\n",
              "      <td>P</td>\n",
              "      <td>5.166667</td>\n",
              "      <td>7.1</td>\n",
              "      <td>68.5</td>\n",
              "      <td>Tidak Stunting</td>\n",
              "    </tr>\n",
              "    <tr>\n",
              "      <th>3</th>\n",
              "      <td>GHEGHE KALISTA PUTRI</td>\n",
              "      <td>P</td>\n",
              "      <td>45.300000</td>\n",
              "      <td>13.8</td>\n",
              "      <td>95</td>\n",
              "      <td>Tidak Stunting</td>\n",
              "    </tr>\n",
              "    <tr>\n",
              "      <th>4</th>\n",
              "      <td>LINGGA OKTAVIAN WIRATAMA</td>\n",
              "      <td>L</td>\n",
              "      <td>53.633333</td>\n",
              "      <td>18.6</td>\n",
              "      <td>106</td>\n",
              "      <td>Tidak Stunting</td>\n",
              "    </tr>\n",
              "    <tr>\n",
              "      <th>...</th>\n",
              "      <td>...</td>\n",
              "      <td>...</td>\n",
              "      <td>...</td>\n",
              "      <td>...</td>\n",
              "      <td>...</td>\n",
              "      <td>...</td>\n",
              "    </tr>\n",
              "    <tr>\n",
              "      <th>6672</th>\n",
              "      <td>KAUTSARRAKY</td>\n",
              "      <td>L</td>\n",
              "      <td>0.000000</td>\n",
              "      <td>3.0</td>\n",
              "      <td>50</td>\n",
              "      <td>Tidak Stunting</td>\n",
              "    </tr>\n",
              "    <tr>\n",
              "      <th>6673</th>\n",
              "      <td>ALEENA H</td>\n",
              "      <td>P</td>\n",
              "      <td>0.000000</td>\n",
              "      <td>3.0</td>\n",
              "      <td>50</td>\n",
              "      <td>Tidak Stunting</td>\n",
              "    </tr>\n",
              "    <tr>\n",
              "      <th>6674</th>\n",
              "      <td>M EMRAN</td>\n",
              "      <td>L</td>\n",
              "      <td>0.000000</td>\n",
              "      <td>3.0</td>\n",
              "      <td>50</td>\n",
              "      <td>Stunting</td>\n",
              "    </tr>\n",
              "    <tr>\n",
              "      <th>6675</th>\n",
              "      <td>REZVAN A P</td>\n",
              "      <td>L</td>\n",
              "      <td>0.000000</td>\n",
              "      <td>3.0</td>\n",
              "      <td>50</td>\n",
              "      <td>Tidak Stunting</td>\n",
              "    </tr>\n",
              "    <tr>\n",
              "      <th>6676</th>\n",
              "      <td>APRIANZA QEISYAM GUNAWAN</td>\n",
              "      <td>L</td>\n",
              "      <td>0.000000</td>\n",
              "      <td>2.8</td>\n",
              "      <td>48</td>\n",
              "      <td>Tidak Stunting</td>\n",
              "    </tr>\n",
              "  </tbody>\n",
              "</table>\n",
              "<p>6677 rows × 6 columns</p>\n",
              "</div>\n",
              "      <button class=\"colab-df-convert\" onclick=\"convertToInteractive('df-65fef503-8bd1-46f8-891c-d53616caa0c1')\"\n",
              "              title=\"Convert this dataframe to an interactive table.\"\n",
              "              style=\"display:none;\">\n",
              "        \n",
              "  <svg xmlns=\"http://www.w3.org/2000/svg\" height=\"24px\"viewBox=\"0 0 24 24\"\n",
              "       width=\"24px\">\n",
              "    <path d=\"M0 0h24v24H0V0z\" fill=\"none\"/>\n",
              "    <path d=\"M18.56 5.44l.94 2.06.94-2.06 2.06-.94-2.06-.94-.94-2.06-.94 2.06-2.06.94zm-11 1L8.5 8.5l.94-2.06 2.06-.94-2.06-.94L8.5 2.5l-.94 2.06-2.06.94zm10 10l.94 2.06.94-2.06 2.06-.94-2.06-.94-.94-2.06-.94 2.06-2.06.94z\"/><path d=\"M17.41 7.96l-1.37-1.37c-.4-.4-.92-.59-1.43-.59-.52 0-1.04.2-1.43.59L10.3 9.45l-7.72 7.72c-.78.78-.78 2.05 0 2.83L4 21.41c.39.39.9.59 1.41.59.51 0 1.02-.2 1.41-.59l7.78-7.78 2.81-2.81c.8-.78.8-2.07 0-2.86zM5.41 20L4 18.59l7.72-7.72 1.47 1.35L5.41 20z\"/>\n",
              "  </svg>\n",
              "      </button>\n",
              "      \n",
              "  <style>\n",
              "    .colab-df-container {\n",
              "      display:flex;\n",
              "      flex-wrap:wrap;\n",
              "      gap: 12px;\n",
              "    }\n",
              "\n",
              "    .colab-df-convert {\n",
              "      background-color: #E8F0FE;\n",
              "      border: none;\n",
              "      border-radius: 50%;\n",
              "      cursor: pointer;\n",
              "      display: none;\n",
              "      fill: #1967D2;\n",
              "      height: 32px;\n",
              "      padding: 0 0 0 0;\n",
              "      width: 32px;\n",
              "    }\n",
              "\n",
              "    .colab-df-convert:hover {\n",
              "      background-color: #E2EBFA;\n",
              "      box-shadow: 0px 1px 2px rgba(60, 64, 67, 0.3), 0px 1px 3px 1px rgba(60, 64, 67, 0.15);\n",
              "      fill: #174EA6;\n",
              "    }\n",
              "\n",
              "    [theme=dark] .colab-df-convert {\n",
              "      background-color: #3B4455;\n",
              "      fill: #D2E3FC;\n",
              "    }\n",
              "\n",
              "    [theme=dark] .colab-df-convert:hover {\n",
              "      background-color: #434B5C;\n",
              "      box-shadow: 0px 1px 3px 1px rgba(0, 0, 0, 0.15);\n",
              "      filter: drop-shadow(0px 1px 2px rgba(0, 0, 0, 0.3));\n",
              "      fill: #FFFFFF;\n",
              "    }\n",
              "  </style>\n",
              "\n",
              "      <script>\n",
              "        const buttonEl =\n",
              "          document.querySelector('#df-65fef503-8bd1-46f8-891c-d53616caa0c1 button.colab-df-convert');\n",
              "        buttonEl.style.display =\n",
              "          google.colab.kernel.accessAllowed ? 'block' : 'none';\n",
              "\n",
              "        async function convertToInteractive(key) {\n",
              "          const element = document.querySelector('#df-65fef503-8bd1-46f8-891c-d53616caa0c1');\n",
              "          const dataTable =\n",
              "            await google.colab.kernel.invokeFunction('convertToInteractive',\n",
              "                                                     [key], {});\n",
              "          if (!dataTable) return;\n",
              "\n",
              "          const docLinkHtml = 'Like what you see? Visit the ' +\n",
              "            '<a target=\"_blank\" href=https://colab.research.google.com/notebooks/data_table.ipynb>data table notebook</a>'\n",
              "            + ' to learn more about interactive tables.';\n",
              "          element.innerHTML = '';\n",
              "          dataTable['output_type'] = 'display_data';\n",
              "          await google.colab.output.renderOutput(dataTable, element);\n",
              "          const docLink = document.createElement('div');\n",
              "          docLink.innerHTML = docLinkHtml;\n",
              "          element.appendChild(docLink);\n",
              "        }\n",
              "      </script>\n",
              "    </div>\n",
              "  </div>\n",
              "  "
            ]
          },
          "metadata": {},
          "execution_count": 5
        }
      ]
    },
    {
      "cell_type": "markdown",
      "source": [
        "# **Data Cleaning**"
      ],
      "metadata": {
        "id": "TctciaNrZGhB"
      }
    },
    {
      "cell_type": "code",
      "source": [
        "# Check Missing Value\n",
        "nan_data = df[df.isna().any(axis=1)]\n",
        "nan_data"
      ],
      "metadata": {
        "colab": {
          "base_uri": "https://localhost:8080/",
          "height": 49
        },
        "id": "1J2a19OaFFLV",
        "outputId": "5e426af8-467a-4dbb-98d0-cb2bb937067d"
      },
      "execution_count": null,
      "outputs": [
        {
          "output_type": "execute_result",
          "data": {
            "text/plain": [
              "Empty DataFrame\n",
              "Columns: [Nama, JK, Usia, Berat, Tinggi, Status]\n",
              "Index: []"
            ],
            "text/html": [
              "\n",
              "  <div id=\"df-f371af96-1aa1-4faf-9115-6ca347a5a99e\">\n",
              "    <div class=\"colab-df-container\">\n",
              "      <div>\n",
              "<style scoped>\n",
              "    .dataframe tbody tr th:only-of-type {\n",
              "        vertical-align: middle;\n",
              "    }\n",
              "\n",
              "    .dataframe tbody tr th {\n",
              "        vertical-align: top;\n",
              "    }\n",
              "\n",
              "    .dataframe thead th {\n",
              "        text-align: right;\n",
              "    }\n",
              "</style>\n",
              "<table border=\"1\" class=\"dataframe\">\n",
              "  <thead>\n",
              "    <tr style=\"text-align: right;\">\n",
              "      <th></th>\n",
              "      <th>Nama</th>\n",
              "      <th>JK</th>\n",
              "      <th>Usia</th>\n",
              "      <th>Berat</th>\n",
              "      <th>Tinggi</th>\n",
              "      <th>Status</th>\n",
              "    </tr>\n",
              "  </thead>\n",
              "  <tbody>\n",
              "  </tbody>\n",
              "</table>\n",
              "</div>\n",
              "      <button class=\"colab-df-convert\" onclick=\"convertToInteractive('df-f371af96-1aa1-4faf-9115-6ca347a5a99e')\"\n",
              "              title=\"Convert this dataframe to an interactive table.\"\n",
              "              style=\"display:none;\">\n",
              "        \n",
              "  <svg xmlns=\"http://www.w3.org/2000/svg\" height=\"24px\"viewBox=\"0 0 24 24\"\n",
              "       width=\"24px\">\n",
              "    <path d=\"M0 0h24v24H0V0z\" fill=\"none\"/>\n",
              "    <path d=\"M18.56 5.44l.94 2.06.94-2.06 2.06-.94-2.06-.94-.94-2.06-.94 2.06-2.06.94zm-11 1L8.5 8.5l.94-2.06 2.06-.94-2.06-.94L8.5 2.5l-.94 2.06-2.06.94zm10 10l.94 2.06.94-2.06 2.06-.94-2.06-.94-.94-2.06-.94 2.06-2.06.94z\"/><path d=\"M17.41 7.96l-1.37-1.37c-.4-.4-.92-.59-1.43-.59-.52 0-1.04.2-1.43.59L10.3 9.45l-7.72 7.72c-.78.78-.78 2.05 0 2.83L4 21.41c.39.39.9.59 1.41.59.51 0 1.02-.2 1.41-.59l7.78-7.78 2.81-2.81c.8-.78.8-2.07 0-2.86zM5.41 20L4 18.59l7.72-7.72 1.47 1.35L5.41 20z\"/>\n",
              "  </svg>\n",
              "      </button>\n",
              "      \n",
              "  <style>\n",
              "    .colab-df-container {\n",
              "      display:flex;\n",
              "      flex-wrap:wrap;\n",
              "      gap: 12px;\n",
              "    }\n",
              "\n",
              "    .colab-df-convert {\n",
              "      background-color: #E8F0FE;\n",
              "      border: none;\n",
              "      border-radius: 50%;\n",
              "      cursor: pointer;\n",
              "      display: none;\n",
              "      fill: #1967D2;\n",
              "      height: 32px;\n",
              "      padding: 0 0 0 0;\n",
              "      width: 32px;\n",
              "    }\n",
              "\n",
              "    .colab-df-convert:hover {\n",
              "      background-color: #E2EBFA;\n",
              "      box-shadow: 0px 1px 2px rgba(60, 64, 67, 0.3), 0px 1px 3px 1px rgba(60, 64, 67, 0.15);\n",
              "      fill: #174EA6;\n",
              "    }\n",
              "\n",
              "    [theme=dark] .colab-df-convert {\n",
              "      background-color: #3B4455;\n",
              "      fill: #D2E3FC;\n",
              "    }\n",
              "\n",
              "    [theme=dark] .colab-df-convert:hover {\n",
              "      background-color: #434B5C;\n",
              "      box-shadow: 0px 1px 3px 1px rgba(0, 0, 0, 0.15);\n",
              "      filter: drop-shadow(0px 1px 2px rgba(0, 0, 0, 0.3));\n",
              "      fill: #FFFFFF;\n",
              "    }\n",
              "  </style>\n",
              "\n",
              "      <script>\n",
              "        const buttonEl =\n",
              "          document.querySelector('#df-f371af96-1aa1-4faf-9115-6ca347a5a99e button.colab-df-convert');\n",
              "        buttonEl.style.display =\n",
              "          google.colab.kernel.accessAllowed ? 'block' : 'none';\n",
              "\n",
              "        async function convertToInteractive(key) {\n",
              "          const element = document.querySelector('#df-f371af96-1aa1-4faf-9115-6ca347a5a99e');\n",
              "          const dataTable =\n",
              "            await google.colab.kernel.invokeFunction('convertToInteractive',\n",
              "                                                     [key], {});\n",
              "          if (!dataTable) return;\n",
              "\n",
              "          const docLinkHtml = 'Like what you see? Visit the ' +\n",
              "            '<a target=\"_blank\" href=https://colab.research.google.com/notebooks/data_table.ipynb>data table notebook</a>'\n",
              "            + ' to learn more about interactive tables.';\n",
              "          element.innerHTML = '';\n",
              "          dataTable['output_type'] = 'display_data';\n",
              "          await google.colab.output.renderOutput(dataTable, element);\n",
              "          const docLink = document.createElement('div');\n",
              "          docLink.innerHTML = docLinkHtml;\n",
              "          element.appendChild(docLink);\n",
              "        }\n",
              "      </script>\n",
              "    </div>\n",
              "  </div>\n",
              "  "
            ]
          },
          "metadata": {},
          "execution_count": 6
        }
      ]
    },
    {
      "cell_type": "code",
      "source": [
        "missing_values = df.isnull().sum()\n",
        "print(missing_values)"
      ],
      "metadata": {
        "colab": {
          "base_uri": "https://localhost:8080/"
        },
        "id": "_CPpFTQaD6Fr",
        "outputId": "6413b6d7-f773-47b7-9d1d-79a2185e801f"
      },
      "execution_count": null,
      "outputs": [
        {
          "output_type": "stream",
          "name": "stdout",
          "text": [
            "Nama      0\n",
            "JK        0\n",
            "Usia      0\n",
            "Berat     0\n",
            "Tinggi    0\n",
            "Status    0\n",
            "dtype: int64\n"
          ]
        }
      ]
    },
    {
      "cell_type": "code",
      "source": [
        "# Mengecek adakah mixed value\n",
        "df.dtypes"
      ],
      "metadata": {
        "id": "a0tY21JwZ8g-",
        "colab": {
          "base_uri": "https://localhost:8080/"
        },
        "outputId": "97e63db3-64fa-405d-9e30-b5f92c01c4e8"
      },
      "execution_count": null,
      "outputs": [
        {
          "output_type": "execute_result",
          "data": {
            "text/plain": [
              "Nama       object\n",
              "JK         object\n",
              "Usia      float64\n",
              "Berat     float64\n",
              "Tinggi     object\n",
              "Status     object\n",
              "dtype: object"
            ]
          },
          "metadata": {},
          "execution_count": 7
        }
      ]
    },
    {
      "cell_type": "code",
      "source": [
        "# Mengecek baris mana yang tidak bertipe float pada kolom Tinggi\n",
        "non_float_rows = df[~df['Tinggi'].apply(lambda x: isinstance(x, float))]\n",
        "print(non_float_rows)"
      ],
      "metadata": {
        "colab": {
          "base_uri": "https://localhost:8080/"
        },
        "id": "JgA7-3hI-89m",
        "outputId": "093d6593-b4df-487b-dee0-3b89ae7fd26d"
      },
      "execution_count": null,
      "outputs": [
        {
          "output_type": "stream",
          "name": "stdout",
          "text": [
            "                              Nama  JK       Usia  Berat Tinggi  \\\n",
            "0            FAISAL FAKIH RUKMANA   L    2.466667    4.9     58   \n",
            "1     MUHAMMAD HAFIDZ ATHAFARIZ S   L   58.466667   17.0    109   \n",
            "3            GHEGHE KALISTA PUTRI   P   45.300000   13.8     95   \n",
            "4        LINGGA OKTAVIAN WIRATAMA   L   53.633333   18.6    106   \n",
            "6              ASTI RAHMA SAPITRI   P   59.533333   18.5    107   \n",
            "...                            ...  ..        ...    ...    ...   \n",
            "6672                  KAUTSARRAKY   L    0.000000    3.0     50   \n",
            "6673                     ALEENA H   P    0.000000    3.0     50   \n",
            "6674                      M EMRAN   L    0.000000    3.0     50   \n",
            "6675                   REZVAN A P   L    0.000000    3.0     50   \n",
            "6676     APRIANZA QEISYAM GUNAWAN   L    0.000000    2.8     48   \n",
            "\n",
            "              Status  \n",
            "0     Tidak Stunting  \n",
            "1     Tidak Stunting  \n",
            "3     Tidak Stunting  \n",
            "4     Tidak Stunting  \n",
            "6     Tidak Stunting  \n",
            "...              ...  \n",
            "6672  Tidak Stunting  \n",
            "6673  Tidak Stunting  \n",
            "6674        Stunting  \n",
            "6675  Tidak Stunting  \n",
            "6676  Tidak Stunting  \n",
            "\n",
            "[4686 rows x 6 columns]\n"
          ]
        }
      ]
    },
    {
      "cell_type": "code",
      "source": [
        "df['Tinggi'] = df['Tinggi'].fillna('')"
      ],
      "metadata": {
        "id": "ZfNtMA3dEgiZ"
      },
      "execution_count": null,
      "outputs": []
    },
    {
      "cell_type": "code",
      "source": [
        "# Ketika diconvert ke float error, ternyata terdapat baris yang mengandung (-)\n",
        "strip_rows = df[df['Tinggi'].astype(str).str.contains('-')]\n",
        "print(strip_rows)"
      ],
      "metadata": {
        "colab": {
          "base_uri": "https://localhost:8080/"
        },
        "id": "8WcggcJLCVVe",
        "outputId": "bc897cb7-fb7c-4bb6-ce29-7b1304c9d3eb"
      },
      "execution_count": null,
      "outputs": [
        {
          "output_type": "stream",
          "name": "stdout",
          "text": [
            "                  Nama  JK       Usia  Berat Tinggi          Status\n",
            "2087  ARKENZY ZAVIYAR   L   37.633333   13.4      -  Tidak Stunting\n"
          ]
        }
      ]
    },
    {
      "cell_type": "code",
      "source": [
        "df = df.drop(2087)"
      ],
      "metadata": {
        "id": "fDu6V_eBFe5p"
      },
      "execution_count": null,
      "outputs": []
    },
    {
      "cell_type": "code",
      "source": [
        "df['Tinggi'] = df['Tinggi'].astype(float)\n",
        "print(df['Tinggi'].dtype)"
      ],
      "metadata": {
        "colab": {
          "base_uri": "https://localhost:8080/"
        },
        "id": "bbi1bm_LCAy1",
        "outputId": "b2395330-8934-4117-bf67-9034b1b71c33"
      },
      "execution_count": null,
      "outputs": [
        {
          "output_type": "stream",
          "name": "stdout",
          "text": [
            "float64\n"
          ]
        }
      ]
    },
    {
      "cell_type": "code",
      "source": [
        "df"
      ],
      "metadata": {
        "colab": {
          "base_uri": "https://localhost:8080/",
          "height": 424
        },
        "id": "Ue4TeSoMF7Ot",
        "outputId": "4d34bae0-217f-4bd4-eb84-fb9ae4ce118f"
      },
      "execution_count": null,
      "outputs": [
        {
          "output_type": "execute_result",
          "data": {
            "text/plain": [
              "                              Nama  JK       Usia  Berat  Tinggi  \\\n",
              "0            FAISAL FAKIH RUKMANA   L    2.466667    4.9    58.0   \n",
              "1     MUHAMMAD HAFIDZ ATHAFARIZ S   L   58.466667   17.0   109.0   \n",
              "2              VIONA FEBBY YASMIN   P    5.166667    7.1    68.5   \n",
              "3            GHEGHE KALISTA PUTRI   P   45.300000   13.8    95.0   \n",
              "4        LINGGA OKTAVIAN WIRATAMA   L   53.633333   18.6   106.0   \n",
              "...                            ...  ..        ...    ...     ...   \n",
              "6672                  KAUTSARRAKY   L    0.000000    3.0    50.0   \n",
              "6673                     ALEENA H   P    0.000000    3.0    50.0   \n",
              "6674                      M EMRAN   L    0.000000    3.0    50.0   \n",
              "6675                   REZVAN A P   L    0.000000    3.0    50.0   \n",
              "6676     APRIANZA QEISYAM GUNAWAN   L    0.000000    2.8    48.0   \n",
              "\n",
              "              Status  \n",
              "0     Tidak Stunting  \n",
              "1     Tidak Stunting  \n",
              "2     Tidak Stunting  \n",
              "3     Tidak Stunting  \n",
              "4     Tidak Stunting  \n",
              "...              ...  \n",
              "6672  Tidak Stunting  \n",
              "6673  Tidak Stunting  \n",
              "6674        Stunting  \n",
              "6675  Tidak Stunting  \n",
              "6676  Tidak Stunting  \n",
              "\n",
              "[6676 rows x 6 columns]"
            ],
            "text/html": [
              "\n",
              "  <div id=\"df-c8b1a5b1-8639-40a7-b752-ba269e20ac6c\">\n",
              "    <div class=\"colab-df-container\">\n",
              "      <div>\n",
              "<style scoped>\n",
              "    .dataframe tbody tr th:only-of-type {\n",
              "        vertical-align: middle;\n",
              "    }\n",
              "\n",
              "    .dataframe tbody tr th {\n",
              "        vertical-align: top;\n",
              "    }\n",
              "\n",
              "    .dataframe thead th {\n",
              "        text-align: right;\n",
              "    }\n",
              "</style>\n",
              "<table border=\"1\" class=\"dataframe\">\n",
              "  <thead>\n",
              "    <tr style=\"text-align: right;\">\n",
              "      <th></th>\n",
              "      <th>Nama</th>\n",
              "      <th>JK</th>\n",
              "      <th>Usia</th>\n",
              "      <th>Berat</th>\n",
              "      <th>Tinggi</th>\n",
              "      <th>Status</th>\n",
              "    </tr>\n",
              "  </thead>\n",
              "  <tbody>\n",
              "    <tr>\n",
              "      <th>0</th>\n",
              "      <td>FAISAL FAKIH RUKMANA</td>\n",
              "      <td>L</td>\n",
              "      <td>2.466667</td>\n",
              "      <td>4.9</td>\n",
              "      <td>58.0</td>\n",
              "      <td>Tidak Stunting</td>\n",
              "    </tr>\n",
              "    <tr>\n",
              "      <th>1</th>\n",
              "      <td>MUHAMMAD HAFIDZ ATHAFARIZ S</td>\n",
              "      <td>L</td>\n",
              "      <td>58.466667</td>\n",
              "      <td>17.0</td>\n",
              "      <td>109.0</td>\n",
              "      <td>Tidak Stunting</td>\n",
              "    </tr>\n",
              "    <tr>\n",
              "      <th>2</th>\n",
              "      <td>VIONA FEBBY YASMIN</td>\n",
              "      <td>P</td>\n",
              "      <td>5.166667</td>\n",
              "      <td>7.1</td>\n",
              "      <td>68.5</td>\n",
              "      <td>Tidak Stunting</td>\n",
              "    </tr>\n",
              "    <tr>\n",
              "      <th>3</th>\n",
              "      <td>GHEGHE KALISTA PUTRI</td>\n",
              "      <td>P</td>\n",
              "      <td>45.300000</td>\n",
              "      <td>13.8</td>\n",
              "      <td>95.0</td>\n",
              "      <td>Tidak Stunting</td>\n",
              "    </tr>\n",
              "    <tr>\n",
              "      <th>4</th>\n",
              "      <td>LINGGA OKTAVIAN WIRATAMA</td>\n",
              "      <td>L</td>\n",
              "      <td>53.633333</td>\n",
              "      <td>18.6</td>\n",
              "      <td>106.0</td>\n",
              "      <td>Tidak Stunting</td>\n",
              "    </tr>\n",
              "    <tr>\n",
              "      <th>...</th>\n",
              "      <td>...</td>\n",
              "      <td>...</td>\n",
              "      <td>...</td>\n",
              "      <td>...</td>\n",
              "      <td>...</td>\n",
              "      <td>...</td>\n",
              "    </tr>\n",
              "    <tr>\n",
              "      <th>6672</th>\n",
              "      <td>KAUTSARRAKY</td>\n",
              "      <td>L</td>\n",
              "      <td>0.000000</td>\n",
              "      <td>3.0</td>\n",
              "      <td>50.0</td>\n",
              "      <td>Tidak Stunting</td>\n",
              "    </tr>\n",
              "    <tr>\n",
              "      <th>6673</th>\n",
              "      <td>ALEENA H</td>\n",
              "      <td>P</td>\n",
              "      <td>0.000000</td>\n",
              "      <td>3.0</td>\n",
              "      <td>50.0</td>\n",
              "      <td>Tidak Stunting</td>\n",
              "    </tr>\n",
              "    <tr>\n",
              "      <th>6674</th>\n",
              "      <td>M EMRAN</td>\n",
              "      <td>L</td>\n",
              "      <td>0.000000</td>\n",
              "      <td>3.0</td>\n",
              "      <td>50.0</td>\n",
              "      <td>Stunting</td>\n",
              "    </tr>\n",
              "    <tr>\n",
              "      <th>6675</th>\n",
              "      <td>REZVAN A P</td>\n",
              "      <td>L</td>\n",
              "      <td>0.000000</td>\n",
              "      <td>3.0</td>\n",
              "      <td>50.0</td>\n",
              "      <td>Tidak Stunting</td>\n",
              "    </tr>\n",
              "    <tr>\n",
              "      <th>6676</th>\n",
              "      <td>APRIANZA QEISYAM GUNAWAN</td>\n",
              "      <td>L</td>\n",
              "      <td>0.000000</td>\n",
              "      <td>2.8</td>\n",
              "      <td>48.0</td>\n",
              "      <td>Tidak Stunting</td>\n",
              "    </tr>\n",
              "  </tbody>\n",
              "</table>\n",
              "<p>6676 rows × 6 columns</p>\n",
              "</div>\n",
              "      <button class=\"colab-df-convert\" onclick=\"convertToInteractive('df-c8b1a5b1-8639-40a7-b752-ba269e20ac6c')\"\n",
              "              title=\"Convert this dataframe to an interactive table.\"\n",
              "              style=\"display:none;\">\n",
              "        \n",
              "  <svg xmlns=\"http://www.w3.org/2000/svg\" height=\"24px\"viewBox=\"0 0 24 24\"\n",
              "       width=\"24px\">\n",
              "    <path d=\"M0 0h24v24H0V0z\" fill=\"none\"/>\n",
              "    <path d=\"M18.56 5.44l.94 2.06.94-2.06 2.06-.94-2.06-.94-.94-2.06-.94 2.06-2.06.94zm-11 1L8.5 8.5l.94-2.06 2.06-.94-2.06-.94L8.5 2.5l-.94 2.06-2.06.94zm10 10l.94 2.06.94-2.06 2.06-.94-2.06-.94-.94-2.06-.94 2.06-2.06.94z\"/><path d=\"M17.41 7.96l-1.37-1.37c-.4-.4-.92-.59-1.43-.59-.52 0-1.04.2-1.43.59L10.3 9.45l-7.72 7.72c-.78.78-.78 2.05 0 2.83L4 21.41c.39.39.9.59 1.41.59.51 0 1.02-.2 1.41-.59l7.78-7.78 2.81-2.81c.8-.78.8-2.07 0-2.86zM5.41 20L4 18.59l7.72-7.72 1.47 1.35L5.41 20z\"/>\n",
              "  </svg>\n",
              "      </button>\n",
              "      \n",
              "  <style>\n",
              "    .colab-df-container {\n",
              "      display:flex;\n",
              "      flex-wrap:wrap;\n",
              "      gap: 12px;\n",
              "    }\n",
              "\n",
              "    .colab-df-convert {\n",
              "      background-color: #E8F0FE;\n",
              "      border: none;\n",
              "      border-radius: 50%;\n",
              "      cursor: pointer;\n",
              "      display: none;\n",
              "      fill: #1967D2;\n",
              "      height: 32px;\n",
              "      padding: 0 0 0 0;\n",
              "      width: 32px;\n",
              "    }\n",
              "\n",
              "    .colab-df-convert:hover {\n",
              "      background-color: #E2EBFA;\n",
              "      box-shadow: 0px 1px 2px rgba(60, 64, 67, 0.3), 0px 1px 3px 1px rgba(60, 64, 67, 0.15);\n",
              "      fill: #174EA6;\n",
              "    }\n",
              "\n",
              "    [theme=dark] .colab-df-convert {\n",
              "      background-color: #3B4455;\n",
              "      fill: #D2E3FC;\n",
              "    }\n",
              "\n",
              "    [theme=dark] .colab-df-convert:hover {\n",
              "      background-color: #434B5C;\n",
              "      box-shadow: 0px 1px 3px 1px rgba(0, 0, 0, 0.15);\n",
              "      filter: drop-shadow(0px 1px 2px rgba(0, 0, 0, 0.3));\n",
              "      fill: #FFFFFF;\n",
              "    }\n",
              "  </style>\n",
              "\n",
              "      <script>\n",
              "        const buttonEl =\n",
              "          document.querySelector('#df-c8b1a5b1-8639-40a7-b752-ba269e20ac6c button.colab-df-convert');\n",
              "        buttonEl.style.display =\n",
              "          google.colab.kernel.accessAllowed ? 'block' : 'none';\n",
              "\n",
              "        async function convertToInteractive(key) {\n",
              "          const element = document.querySelector('#df-c8b1a5b1-8639-40a7-b752-ba269e20ac6c');\n",
              "          const dataTable =\n",
              "            await google.colab.kernel.invokeFunction('convertToInteractive',\n",
              "                                                     [key], {});\n",
              "          if (!dataTable) return;\n",
              "\n",
              "          const docLinkHtml = 'Like what you see? Visit the ' +\n",
              "            '<a target=\"_blank\" href=https://colab.research.google.com/notebooks/data_table.ipynb>data table notebook</a>'\n",
              "            + ' to learn more about interactive tables.';\n",
              "          element.innerHTML = '';\n",
              "          dataTable['output_type'] = 'display_data';\n",
              "          await google.colab.output.renderOutput(dataTable, element);\n",
              "          const docLink = document.createElement('div');\n",
              "          docLink.innerHTML = docLinkHtml;\n",
              "          element.appendChild(docLink);\n",
              "        }\n",
              "      </script>\n",
              "    </div>\n",
              "  </div>\n",
              "  "
            ]
          },
          "metadata": {},
          "execution_count": 23
        }
      ]
    },
    {
      "cell_type": "code",
      "source": [
        "# Menghapus kolom yang tidak dibutuhkan\n",
        "df = df.drop(['Nama'], axis=1)\n",
        "df"
      ],
      "metadata": {
        "colab": {
          "base_uri": "https://localhost:8080/",
          "height": 424
        },
        "id": "IU-1hihAcTJ5",
        "outputId": "78e73f07-81c9-441d-de5d-4a9e64b673fb"
      },
      "execution_count": null,
      "outputs": [
        {
          "output_type": "execute_result",
          "data": {
            "text/plain": [
              "      JK       Usia  Berat  Tinggi          Status\n",
              "0     L    2.466667    4.9    58.0  Tidak Stunting\n",
              "1     L   58.466667   17.0   109.0  Tidak Stunting\n",
              "2     P    5.166667    7.1    68.5  Tidak Stunting\n",
              "3     P   45.300000   13.8    95.0  Tidak Stunting\n",
              "4     L   53.633333   18.6   106.0  Tidak Stunting\n",
              "...   ..        ...    ...     ...             ...\n",
              "6672  L    0.000000    3.0    50.0  Tidak Stunting\n",
              "6673  P    0.000000    3.0    50.0  Tidak Stunting\n",
              "6674  L    0.000000    3.0    50.0        Stunting\n",
              "6675  L    0.000000    3.0    50.0  Tidak Stunting\n",
              "6676  L    0.000000    2.8    48.0  Tidak Stunting\n",
              "\n",
              "[6676 rows x 5 columns]"
            ],
            "text/html": [
              "\n",
              "  <div id=\"df-355dafcc-1086-4835-b44d-076027fdc4a2\">\n",
              "    <div class=\"colab-df-container\">\n",
              "      <div>\n",
              "<style scoped>\n",
              "    .dataframe tbody tr th:only-of-type {\n",
              "        vertical-align: middle;\n",
              "    }\n",
              "\n",
              "    .dataframe tbody tr th {\n",
              "        vertical-align: top;\n",
              "    }\n",
              "\n",
              "    .dataframe thead th {\n",
              "        text-align: right;\n",
              "    }\n",
              "</style>\n",
              "<table border=\"1\" class=\"dataframe\">\n",
              "  <thead>\n",
              "    <tr style=\"text-align: right;\">\n",
              "      <th></th>\n",
              "      <th>JK</th>\n",
              "      <th>Usia</th>\n",
              "      <th>Berat</th>\n",
              "      <th>Tinggi</th>\n",
              "      <th>Status</th>\n",
              "    </tr>\n",
              "  </thead>\n",
              "  <tbody>\n",
              "    <tr>\n",
              "      <th>0</th>\n",
              "      <td>L</td>\n",
              "      <td>2.466667</td>\n",
              "      <td>4.9</td>\n",
              "      <td>58.0</td>\n",
              "      <td>Tidak Stunting</td>\n",
              "    </tr>\n",
              "    <tr>\n",
              "      <th>1</th>\n",
              "      <td>L</td>\n",
              "      <td>58.466667</td>\n",
              "      <td>17.0</td>\n",
              "      <td>109.0</td>\n",
              "      <td>Tidak Stunting</td>\n",
              "    </tr>\n",
              "    <tr>\n",
              "      <th>2</th>\n",
              "      <td>P</td>\n",
              "      <td>5.166667</td>\n",
              "      <td>7.1</td>\n",
              "      <td>68.5</td>\n",
              "      <td>Tidak Stunting</td>\n",
              "    </tr>\n",
              "    <tr>\n",
              "      <th>3</th>\n",
              "      <td>P</td>\n",
              "      <td>45.300000</td>\n",
              "      <td>13.8</td>\n",
              "      <td>95.0</td>\n",
              "      <td>Tidak Stunting</td>\n",
              "    </tr>\n",
              "    <tr>\n",
              "      <th>4</th>\n",
              "      <td>L</td>\n",
              "      <td>53.633333</td>\n",
              "      <td>18.6</td>\n",
              "      <td>106.0</td>\n",
              "      <td>Tidak Stunting</td>\n",
              "    </tr>\n",
              "    <tr>\n",
              "      <th>...</th>\n",
              "      <td>...</td>\n",
              "      <td>...</td>\n",
              "      <td>...</td>\n",
              "      <td>...</td>\n",
              "      <td>...</td>\n",
              "    </tr>\n",
              "    <tr>\n",
              "      <th>6672</th>\n",
              "      <td>L</td>\n",
              "      <td>0.000000</td>\n",
              "      <td>3.0</td>\n",
              "      <td>50.0</td>\n",
              "      <td>Tidak Stunting</td>\n",
              "    </tr>\n",
              "    <tr>\n",
              "      <th>6673</th>\n",
              "      <td>P</td>\n",
              "      <td>0.000000</td>\n",
              "      <td>3.0</td>\n",
              "      <td>50.0</td>\n",
              "      <td>Tidak Stunting</td>\n",
              "    </tr>\n",
              "    <tr>\n",
              "      <th>6674</th>\n",
              "      <td>L</td>\n",
              "      <td>0.000000</td>\n",
              "      <td>3.0</td>\n",
              "      <td>50.0</td>\n",
              "      <td>Stunting</td>\n",
              "    </tr>\n",
              "    <tr>\n",
              "      <th>6675</th>\n",
              "      <td>L</td>\n",
              "      <td>0.000000</td>\n",
              "      <td>3.0</td>\n",
              "      <td>50.0</td>\n",
              "      <td>Tidak Stunting</td>\n",
              "    </tr>\n",
              "    <tr>\n",
              "      <th>6676</th>\n",
              "      <td>L</td>\n",
              "      <td>0.000000</td>\n",
              "      <td>2.8</td>\n",
              "      <td>48.0</td>\n",
              "      <td>Tidak Stunting</td>\n",
              "    </tr>\n",
              "  </tbody>\n",
              "</table>\n",
              "<p>6676 rows × 5 columns</p>\n",
              "</div>\n",
              "      <button class=\"colab-df-convert\" onclick=\"convertToInteractive('df-355dafcc-1086-4835-b44d-076027fdc4a2')\"\n",
              "              title=\"Convert this dataframe to an interactive table.\"\n",
              "              style=\"display:none;\">\n",
              "        \n",
              "  <svg xmlns=\"http://www.w3.org/2000/svg\" height=\"24px\"viewBox=\"0 0 24 24\"\n",
              "       width=\"24px\">\n",
              "    <path d=\"M0 0h24v24H0V0z\" fill=\"none\"/>\n",
              "    <path d=\"M18.56 5.44l.94 2.06.94-2.06 2.06-.94-2.06-.94-.94-2.06-.94 2.06-2.06.94zm-11 1L8.5 8.5l.94-2.06 2.06-.94-2.06-.94L8.5 2.5l-.94 2.06-2.06.94zm10 10l.94 2.06.94-2.06 2.06-.94-2.06-.94-.94-2.06-.94 2.06-2.06.94z\"/><path d=\"M17.41 7.96l-1.37-1.37c-.4-.4-.92-.59-1.43-.59-.52 0-1.04.2-1.43.59L10.3 9.45l-7.72 7.72c-.78.78-.78 2.05 0 2.83L4 21.41c.39.39.9.59 1.41.59.51 0 1.02-.2 1.41-.59l7.78-7.78 2.81-2.81c.8-.78.8-2.07 0-2.86zM5.41 20L4 18.59l7.72-7.72 1.47 1.35L5.41 20z\"/>\n",
              "  </svg>\n",
              "      </button>\n",
              "      \n",
              "  <style>\n",
              "    .colab-df-container {\n",
              "      display:flex;\n",
              "      flex-wrap:wrap;\n",
              "      gap: 12px;\n",
              "    }\n",
              "\n",
              "    .colab-df-convert {\n",
              "      background-color: #E8F0FE;\n",
              "      border: none;\n",
              "      border-radius: 50%;\n",
              "      cursor: pointer;\n",
              "      display: none;\n",
              "      fill: #1967D2;\n",
              "      height: 32px;\n",
              "      padding: 0 0 0 0;\n",
              "      width: 32px;\n",
              "    }\n",
              "\n",
              "    .colab-df-convert:hover {\n",
              "      background-color: #E2EBFA;\n",
              "      box-shadow: 0px 1px 2px rgba(60, 64, 67, 0.3), 0px 1px 3px 1px rgba(60, 64, 67, 0.15);\n",
              "      fill: #174EA6;\n",
              "    }\n",
              "\n",
              "    [theme=dark] .colab-df-convert {\n",
              "      background-color: #3B4455;\n",
              "      fill: #D2E3FC;\n",
              "    }\n",
              "\n",
              "    [theme=dark] .colab-df-convert:hover {\n",
              "      background-color: #434B5C;\n",
              "      box-shadow: 0px 1px 3px 1px rgba(0, 0, 0, 0.15);\n",
              "      filter: drop-shadow(0px 1px 2px rgba(0, 0, 0, 0.3));\n",
              "      fill: #FFFFFF;\n",
              "    }\n",
              "  </style>\n",
              "\n",
              "      <script>\n",
              "        const buttonEl =\n",
              "          document.querySelector('#df-355dafcc-1086-4835-b44d-076027fdc4a2 button.colab-df-convert');\n",
              "        buttonEl.style.display =\n",
              "          google.colab.kernel.accessAllowed ? 'block' : 'none';\n",
              "\n",
              "        async function convertToInteractive(key) {\n",
              "          const element = document.querySelector('#df-355dafcc-1086-4835-b44d-076027fdc4a2');\n",
              "          const dataTable =\n",
              "            await google.colab.kernel.invokeFunction('convertToInteractive',\n",
              "                                                     [key], {});\n",
              "          if (!dataTable) return;\n",
              "\n",
              "          const docLinkHtml = 'Like what you see? Visit the ' +\n",
              "            '<a target=\"_blank\" href=https://colab.research.google.com/notebooks/data_table.ipynb>data table notebook</a>'\n",
              "            + ' to learn more about interactive tables.';\n",
              "          element.innerHTML = '';\n",
              "          dataTable['output_type'] = 'display_data';\n",
              "          await google.colab.output.renderOutput(dataTable, element);\n",
              "          const docLink = document.createElement('div');\n",
              "          docLink.innerHTML = docLinkHtml;\n",
              "          element.appendChild(docLink);\n",
              "        }\n",
              "      </script>\n",
              "    </div>\n",
              "  </div>\n",
              "  "
            ]
          },
          "metadata": {},
          "execution_count": 24
        }
      ]
    },
    {
      "cell_type": "markdown",
      "source": [
        "# **Data Processing**"
      ],
      "metadata": {
        "id": "DRHd5LaNfsCz"
      }
    },
    {
      "cell_type": "markdown",
      "source": [
        "**1. Mengecek Kemungkinan Imbalance Data**"
      ],
      "metadata": {
        "id": "UyTnITVBGm2Q"
      }
    },
    {
      "cell_type": "code",
      "source": [
        "min_label_len = len(df[df['Status']=='Stunting'])\n",
        "print(min_label_len)"
      ],
      "metadata": {
        "colab": {
          "base_uri": "https://localhost:8080/"
        },
        "id": "7MTw018pQNwT",
        "outputId": "3a788e3e-acb0-41ea-8cfd-07b74dd01f2c"
      },
      "execution_count": null,
      "outputs": [
        {
          "output_type": "stream",
          "name": "stdout",
          "text": [
            "64\n"
          ]
        }
      ]
    },
    {
      "cell_type": "code",
      "source": [
        "max_label_index = df[df['Status']=='Tidak Stunting'].index\n",
        "print(max_label_index)"
      ],
      "metadata": {
        "colab": {
          "base_uri": "https://localhost:8080/"
        },
        "id": "U_ANb0TCUZ48",
        "outputId": "dce6c122-8dcd-4cbc-8589-e75e6e9955bb"
      },
      "execution_count": null,
      "outputs": [
        {
          "output_type": "stream",
          "name": "stdout",
          "text": [
            "Int64Index([   0,    1,    2,    3,    4,    5,    6,    7,    8,    9,\n",
            "            ...\n",
            "            6664, 6665, 6667, 6669, 6670, 6671, 6672, 6673, 6675, 6676],\n",
            "           dtype='int64', length=6612)\n"
          ]
        }
      ]
    },
    {
      "cell_type": "code",
      "source": [
        "# Terjadi imbalance karena stunting sebanyak 64 data sedangkan tidak stunting 6612 data"
      ],
      "metadata": {
        "id": "ECm862nqHEvv"
      },
      "execution_count": null,
      "outputs": []
    },
    {
      "cell_type": "markdown",
      "source": [
        "**2. Undersampling**"
      ],
      "metadata": {
        "id": "LDFe0zakQJyx"
      }
    },
    {
      "cell_type": "code",
      "source": [
        "# Melakukan undersampling pada label yang terbesar\n",
        "random_max_index = np.random.choice(max_label_index,\n",
        "                                    min_label_len,\n",
        "                                    replace=False)\n",
        "print(len(random_max_index))"
      ],
      "metadata": {
        "colab": {
          "base_uri": "https://localhost:8080/"
        },
        "id": "u39EQkVwUnh9",
        "outputId": "3f5d25eb-a88f-4d73-ff85-95890f98a5ac"
      },
      "execution_count": null,
      "outputs": [
        {
          "output_type": "stream",
          "name": "stdout",
          "text": [
            "64\n"
          ]
        }
      ]
    },
    {
      "cell_type": "code",
      "source": [
        "min_label_index = df[df['Status']=='Stunting'].index\n",
        "print(min_label_index)"
      ],
      "metadata": {
        "colab": {
          "base_uri": "https://localhost:8080/"
        },
        "id": "CB7UPMJEVaF-",
        "outputId": "9fa47cfc-f9d9-4da6-c8ff-eb11eeeffcd1"
      },
      "execution_count": null,
      "outputs": [
        {
          "output_type": "stream",
          "name": "stdout",
          "text": [
            "Int64Index([  63,  101,  198,  200,  227,  242,  244,  283,  407,  423,  443,\n",
            "             524,  544,  575,  591,  594,  796,  911, 1033, 1042, 1080, 1129,\n",
            "            1154, 1245, 1644, 1650, 1836, 1883, 1930, 2089, 2184, 2187, 2434,\n",
            "            2485, 2748, 2804, 2883, 2911, 2936, 2976, 3154, 3531, 3576, 4203,\n",
            "            4665, 4767, 5019, 5114, 5134, 5346, 5358, 6557, 6559, 6560, 6561,\n",
            "            6623, 6626, 6634, 6649, 6653, 6661, 6666, 6668, 6674],\n",
            "           dtype='int64')\n"
          ]
        }
      ]
    },
    {
      "cell_type": "code",
      "source": [
        "under_sample_index = np.concatenate([min_label_index, random_max_index])\n",
        "under_sample = df.loc[under_sample_index]\n",
        "print(under_sample_index)\n",
        "\n",
        "# Menentukan fitur dan label\n",
        "x = under_sample.loc[:, df.columns != 'Status']\n",
        "y = under_sample.loc[:, df.columns == 'Status']"
      ],
      "metadata": {
        "colab": {
          "base_uri": "https://localhost:8080/"
        },
        "id": "i6aoFtvlVhWl",
        "outputId": "3d342173-ccec-417f-ef48-12a0a5cb5568"
      },
      "execution_count": null,
      "outputs": [
        {
          "output_type": "stream",
          "name": "stdout",
          "text": [
            "[  63  101  198  200  227  242  244  283  407  423  443  524  544  575\n",
            "  591  594  796  911 1033 1042 1080 1129 1154 1245 1644 1650 1836 1883\n",
            " 1930 2089 2184 2187 2434 2485 2748 2804 2883 2911 2936 2976 3154 3531\n",
            " 3576 4203 4665 4767 5019 5114 5134 5346 5358 6557 6559 6560 6561 6623\n",
            " 6626 6634 6649 6653 6661 6666 6668 6674 2133 5208  121 2165 4823 6228\n",
            " 1440 1646 1043 1967 4763 5997 2527 4222 3269 1488  942 1383 4848 2753\n",
            " 3093 1592 5063 2023 1952 6576 6118 6528  570 6552 1857 3407 1213  664\n",
            " 4939 4666 4345 1269 1131 2230  345 4453  991 1939 3309 6062 1557 1038\n",
            " 5666 5617 4831 5337 4349 5403 5520 4191 5348 5981  540 1185 5793  383\n",
            " 1567 4547]\n"
          ]
        }
      ]
    },
    {
      "cell_type": "code",
      "source": [
        "print(x)"
      ],
      "metadata": {
        "colab": {
          "base_uri": "https://localhost:8080/"
        },
        "id": "oOpiufE4Sggm",
        "outputId": "e212448a-6f2d-43f1-cdea-b4274e0e4bb1"
      },
      "execution_count": null,
      "outputs": [
        {
          "output_type": "stream",
          "name": "stdout",
          "text": [
            "      JK       Usia  Berat  Tinggi\n",
            "63    P   19.300000    5.7    72.0\n",
            "101   P   35.300000   10.7    82.2\n",
            "198   L   14.500000   10.0    73.0\n",
            "200   L   50.866667   12.0    95.0\n",
            "227   L    4.966667    6.6    60.3\n",
            "...   ..        ...    ...     ...\n",
            "1185  P   40.900000   12.0    93.0\n",
            "5793  P   13.333333   12.1    80.0\n",
            "383   L   28.066667   11.5    86.2\n",
            "1567  L   16.300000    9.9    75.3\n",
            "4547  P   52.900000   15.0   102.0\n",
            "\n",
            "[128 rows x 4 columns]\n"
          ]
        }
      ]
    },
    {
      "cell_type": "code",
      "source": [
        "print(y)"
      ],
      "metadata": {
        "colab": {
          "base_uri": "https://localhost:8080/"
        },
        "id": "X1YvztNoX8og",
        "outputId": "eed215b7-cf05-4d9d-fb1e-987091bf13ed"
      },
      "execution_count": null,
      "outputs": [
        {
          "output_type": "stream",
          "name": "stdout",
          "text": [
            "              Status\n",
            "63          Stunting\n",
            "101         Stunting\n",
            "198         Stunting\n",
            "200         Stunting\n",
            "227         Stunting\n",
            "...              ...\n",
            "1185  Tidak Stunting\n",
            "5793  Tidak Stunting\n",
            "383   Tidak Stunting\n",
            "1567  Tidak Stunting\n",
            "4547  Tidak Stunting\n",
            "\n",
            "[128 rows x 1 columns]\n"
          ]
        }
      ]
    },
    {
      "cell_type": "code",
      "source": [
        "# TRANSFORMASI & ENCODING Kolom Fitur\n",
        "from sklearn.compose import ColumnTransformer\n",
        "from sklearn.preprocessing import OneHotEncoder\n",
        "\n",
        "column_transformer = ColumnTransformer(transformers=[('encoder', OneHotEncoder(), [0])], remainder='passthrough')\n",
        "x = np.array(column_transformer.fit_transform(x))"
      ],
      "metadata": {
        "id": "Wnque5Ajgu3u"
      },
      "execution_count": null,
      "outputs": []
    },
    {
      "cell_type": "code",
      "source": [
        "print(x)"
      ],
      "metadata": {
        "colab": {
          "base_uri": "https://localhost:8080/"
        },
        "id": "VHrdZWWWOXgm",
        "outputId": "bf4cfd1a-a60f-459b-c7c1-502b4d465322"
      },
      "execution_count": null,
      "outputs": [
        {
          "output_type": "stream",
          "name": "stdout",
          "text": [
            "[[  0.           1.          19.3          5.7         72.        ]\n",
            " [  0.           1.          35.3         10.7         82.2       ]\n",
            " [  1.           0.          14.5         10.          73.        ]\n",
            " [  1.           0.          50.86666667  12.          95.        ]\n",
            " [  1.           0.           4.96666667   6.6         60.3       ]\n",
            " [  0.           1.           7.2          5.5         62.3       ]\n",
            " [  1.           0.          20.93333333   9.5         79.        ]\n",
            " [  0.           1.          20.2         10.5         74.        ]\n",
            " [  0.           1.          58.86666667  12.5         98.        ]\n",
            " [  0.           1.          28.33333333   9.          80.        ]\n",
            " [  1.           0.          41.63333333  10.          90.        ]\n",
            " [  0.           1.           0.           1.8         47.        ]\n",
            " [  0.           1.          34.          12.          86.        ]\n",
            " [  0.           1.          21.           8.          75.        ]\n",
            " [  1.           0.          23.          10.8         80.        ]\n",
            " [  0.           1.          26.5          9.          80.        ]\n",
            " [  1.           0.          58.23333333  15.5         96.        ]\n",
            " [  0.           1.          25.36666667   9.9         79.2       ]\n",
            " [  0.           1.          49.36666667  13.          94.6       ]\n",
            " [  0.           1.           9.73333333   8.          60.        ]\n",
            " [  0.           1.          48.6         11.          90.        ]\n",
            " [  0.           1.          55.13333333  14.          94.        ]\n",
            " [  1.           0.          30.7         12.          84.7       ]\n",
            " [  1.           0.          27.63333333   7.5         71.        ]\n",
            " [  1.           0.          39.4         13.          90.        ]\n",
            " [  1.           0.          20.53333333  10.          77.        ]\n",
            " [  1.           0.          59.1         16.         100.        ]\n",
            " [  1.           0.          59.1         12.8         94.        ]\n",
            " [  1.           0.          58.9         14.          95.        ]\n",
            " [  1.           0.          30.33333333  10.7         84.5       ]\n",
            " [  1.           0.          35.53333333  10.5         87.        ]\n",
            " [  0.           1.          25.63333333  10.          80.        ]\n",
            " [  1.           0.          33.3         11.          87.        ]\n",
            " [  0.           1.          46.26666667  11.5         92.        ]\n",
            " [  1.           0.          11.4          8.          70.        ]\n",
            " [  0.           1.          58.23333333  16.          99.        ]\n",
            " [  1.           0.          40.6         10.          80.        ]\n",
            " [  0.           1.          44.76666667  12.          86.        ]\n",
            " [  1.           0.          22.26666667  10.          79.        ]\n",
            " [  0.           1.          28.9         10.          78.        ]\n",
            " [  1.           0.          22.26666667  10.          79.        ]\n",
            " [  1.           0.          29.76666667  10.          82.        ]\n",
            " [  0.           1.          28.           7.          80.        ]\n",
            " [  0.           1.          50.1         12.3         92.6       ]\n",
            " [  1.           0.          52.73333333  14.5         96.        ]\n",
            " [  1.           0.          26.23333333  10.1         78.        ]\n",
            " [  1.           0.          23.36666667  11.          80.        ]\n",
            " [  1.           0.          39.23333333  14.8         89.        ]\n",
            " [  1.           0.          37.53333333  14.5         86.7       ]\n",
            " [  1.           0.          20.36666667   9.          74.        ]\n",
            " [  1.           0.          16.93333333   7.1         74.9       ]\n",
            " [  1.           0.          40.86666667  13.1         91.2       ]\n",
            " [  1.           0.          40.73333333  13.1         91.2       ]\n",
            " [  1.           0.          40.7         13.1         91.2       ]\n",
            " [  1.           0.          40.7         13.1         91.2       ]\n",
            " [  1.           0.           0.           3.          49.        ]\n",
            " [  1.           0.           0.           3.4         47.        ]\n",
            " [  0.           1.           0.           3.2         47.        ]\n",
            " [  1.           0.           0.           4.          49.        ]\n",
            " [  0.           1.           0.           2.8         48.        ]\n",
            " [  1.           0.           0.           3.          48.        ]\n",
            " [  1.           0.           0.           3.          48.        ]\n",
            " [  0.           1.           0.           3.          48.        ]\n",
            " [  1.           0.           0.           3.          50.        ]\n",
            " [  0.           1.          10.66666667   7.8         75.        ]\n",
            " [  1.           0.          45.86666667  15.2        101.9       ]\n",
            " [  0.           1.           5.3          7.5         68.        ]\n",
            " [  0.           1.          46.33333333  11.8         95.        ]\n",
            " [  0.           1.          14.76666667  10.3         79.1       ]\n",
            " [  0.           1.           6.6          7.6         69.2       ]\n",
            " [  1.           0.          45.63333333  15.7         98.        ]\n",
            " [  0.           1.          43.7         13.          93.        ]\n",
            " [  1.           0.          35.96666667  15.          96.        ]\n",
            " [  1.           0.          32.5         14.          93.        ]\n",
            " [  0.           1.          15.73333333  10.5         80.2       ]\n",
            " [  0.           1.          54.93333333  18.         113.        ]\n",
            " [  1.           0.           4.76666667   7.          62.        ]\n",
            " [  1.           0.          12.5          9.9         75.4       ]\n",
            " [  1.           0.          58.13333333  15.         101.        ]\n",
            " [  1.           0.          57.1         17.1        102.5       ]\n",
            " [  1.           0.          33.56666667  12.35        94.        ]\n",
            " [  1.           0.          44.06666667  15.          95.        ]\n",
            " [  0.           1.           6.73333333   8.3         69.2       ]\n",
            " [  0.           1.          20.6          9.          79.        ]\n",
            " [  0.           1.          33.          12.          92.        ]\n",
            " [  0.           1.          55.03333333  15.5        108.        ]\n",
            " [  1.           0.          30.03333333  12.          91.5       ]\n",
            " [  1.           0.          24.93333333  10.6         86.        ]\n",
            " [  0.           1.          23.3         12.          88.        ]\n",
            " [  1.           0.          30.86666667  13.5         92.7       ]\n",
            " [  0.           1.          38.43333333  14.7         97.4       ]\n",
            " [  0.           1.          54.8         17.         107.        ]\n",
            " [  1.           0.          35.6         14.3         94.        ]\n",
            " [  1.           0.          44.7         16.2        102.8       ]\n",
            " [  1.           0.          38.4         14.          90.        ]\n",
            " [  0.           1.          56.36666667  15.          99.        ]\n",
            " [  1.           0.          44.56666667  17.1        106.        ]\n",
            " [  1.           0.          52.6         17.         106.        ]\n",
            " [  1.           0.          20.73333333  11.          85.1       ]\n",
            " [  1.           0.          20.16666667  11.          84.2       ]\n",
            " [  0.           1.          16.23333333   9.          78.2       ]\n",
            " [  0.           1.          59.03333333  15.8        102.        ]\n",
            " [  0.           1.          43.          14.          95.2       ]\n",
            " [  1.           0.          24.56666667  11.          82.        ]\n",
            " [  0.           1.          22.43333333  10.5         80.2       ]\n",
            " [  0.           1.          16.33333333  10.5         78.        ]\n",
            " [  1.           0.          32.5         13.          95.        ]\n",
            " [  0.           1.           0.9          5.          50.        ]\n",
            " [  1.           0.          29.93333333  13.          88.        ]\n",
            " [  0.           1.          11.26666667   7.8         73.        ]\n",
            " [  1.           0.          21.6         10.6         79.8       ]\n",
            " [  1.           0.          44.83333333  14.          98.        ]\n",
            " [  1.           0.          11.63333333   8.8         76.        ]\n",
            " [  1.           0.          50.4         15.5        103.        ]\n",
            " [  0.           1.          16.1         10.5         80.2       ]\n",
            " [  1.           0.          28.66666667  12.          87.        ]\n",
            " [  0.           1.          10.9          9.          74.        ]\n",
            " [  0.           1.           9.7          8.9         72.        ]\n",
            " [  1.           0.          19.23333333   9.          78.        ]\n",
            " [  0.           1.          48.5         16.         106.        ]\n",
            " [  0.           1.          38.43333333  11.          90.        ]\n",
            " [  0.           1.          56.53333333  17.7        108.3       ]\n",
            " [  0.           1.          15.76666667   9.          76.        ]\n",
            " [  0.           1.          40.9         12.          93.        ]\n",
            " [  0.           1.          13.33333333  12.1         80.        ]\n",
            " [  1.           0.          28.06666667  11.5         86.2       ]\n",
            " [  1.           0.          16.3          9.9         75.3       ]\n",
            " [  0.           1.          52.9         15.         102.        ]]\n"
          ]
        }
      ]
    },
    {
      "cell_type": "code",
      "source": [
        "# ENCODING pada Kolom Label\n",
        "from sklearn.preprocessing import LabelEncoder\n",
        "label_encoder = LabelEncoder()\n",
        "y = label_encoder.fit_transform(y)"
      ],
      "metadata": {
        "id": "GB83m7qLPFIW",
        "colab": {
          "base_uri": "https://localhost:8080/"
        },
        "outputId": "9a7b8422-cd26-4f59-f890-b2ff06576589"
      },
      "execution_count": null,
      "outputs": [
        {
          "output_type": "stream",
          "name": "stderr",
          "text": [
            "/usr/local/lib/python3.10/dist-packages/sklearn/preprocessing/_label.py:116: DataConversionWarning: A column-vector y was passed when a 1d array was expected. Please change the shape of y to (n_samples, ), for example using ravel().\n",
            "  y = column_or_1d(y, warn=True)\n"
          ]
        }
      ]
    },
    {
      "cell_type": "code",
      "source": [
        "print(y)"
      ],
      "metadata": {
        "colab": {
          "base_uri": "https://localhost:8080/"
        },
        "id": "-FiFyC7LPhEn",
        "outputId": "54b93001-c6af-4582-d1ee-68b56c9ccf2c"
      },
      "execution_count": null,
      "outputs": [
        {
          "output_type": "stream",
          "name": "stdout",
          "text": [
            "[0 0 0 0 0 0 0 0 0 0 0 0 0 0 0 0 0 0 0 0 0 0 0 0 0 0 0 0 0 0 0 0 0 0 0 0 0\n",
            " 0 0 0 0 0 0 0 0 0 0 0 0 0 0 0 0 0 0 0 0 0 0 0 0 0 0 0 1 1 1 1 1 1 1 1 1 1\n",
            " 1 1 1 1 1 1 1 1 1 1 1 1 1 1 1 1 1 1 1 1 1 1 1 1 1 1 1 1 1 1 1 1 1 1 1 1 1\n",
            " 1 1 1 1 1 1 1 1 1 1 1 1 1 1 1 1 1]\n"
          ]
        }
      ]
    },
    {
      "cell_type": "markdown",
      "source": [
        "**3. Oversample**"
      ],
      "metadata": {
        "id": "ozks4FbILBIQ"
      }
    },
    {
      "cell_type": "code",
      "source": [
        "#SMOTE\n",
        "#from imblearn.over_sampling import SMOTE\n",
        "\n",
        "#Sebelum di SMOTE\n",
        "#print(x.shape)\n",
        "#print(y.shape)"
      ],
      "metadata": {
        "id": "kHHEcjyYK8cj"
      },
      "execution_count": null,
      "outputs": []
    },
    {
      "cell_type": "code",
      "source": [
        "#Sesudah di SMOTE\n",
        "#sm = SMOTE(random_state= 42)\n",
        "#x_sampling, y_sampling = sm.fit_resample(x,y)"
      ],
      "metadata": {
        "id": "mwVcQgGuMR3G"
      },
      "execution_count": null,
      "outputs": []
    },
    {
      "cell_type": "code",
      "source": [
        "#print(x_sampling.shape)\n",
        "#print(y_sampling.shape)\n",
        "\n",
        "#Sempat memakai oversampling tapi gagal"
      ],
      "metadata": {
        "id": "lHp6zQbbNzRf"
      },
      "execution_count": null,
      "outputs": []
    },
    {
      "cell_type": "markdown",
      "source": [
        "**3. Split Data**"
      ],
      "metadata": {
        "id": "l2snVGUMP4mM"
      }
    },
    {
      "cell_type": "code",
      "source": [
        "# Split train set dan Test set\n",
        "from sklearn.model_selection import train_test_split\n",
        "x_train, x_test, y_train, y_test = train_test_split(x, y, test_size=0.2, random_state=42)"
      ],
      "metadata": {
        "id": "22PpowRDg4GA"
      },
      "execution_count": null,
      "outputs": []
    },
    {
      "cell_type": "markdown",
      "source": [
        "**4. Scaling Data**"
      ],
      "metadata": {
        "id": "R8a9G0rVS5sd"
      }
    },
    {
      "cell_type": "code",
      "source": [
        "from sklearn.preprocessing import StandardScaler\n",
        "standard_scal = StandardScaler()\n",
        "\n",
        "x_train[:, 2:] = standard_scal.fit_transform(x_train[:, 2:])\n",
        "x_test[:, 2:] = standard_scal.fit_transform(x_test[:, 2:])"
      ],
      "metadata": {
        "id": "cdvC4wwcR2wZ"
      },
      "execution_count": null,
      "outputs": []
    },
    {
      "cell_type": "code",
      "source": [
        "print(x_train)"
      ],
      "metadata": {
        "colab": {
          "base_uri": "https://localhost:8080/"
        },
        "id": "Z0WCKJh6THth",
        "outputId": "d02f620f-f229-4d83-d676-fd5ac3ea580f"
      },
      "execution_count": null,
      "outputs": [
        {
          "output_type": "stream",
          "name": "stdout",
          "text": [
            "[[ 1.          0.          0.87968204  1.27746784  0.95149696]\n",
            " [ 1.          0.          1.60463223  1.0808072   1.15394312]\n",
            " [ 1.          0.          0.50850754  1.02461845  0.34415847]\n",
            " [ 0.          1.         -0.64754636 -1.53196984 -0.80303644]\n",
            " [ 0.          1.          0.20499507  0.2379759   0.14171231]\n",
            " [ 0.          1.         -0.14298103 -1.16674294 -0.26318001]\n",
            " [ 1.          0.         -0.8215344  -0.35200601 -0.58034566]\n",
            " [ 1.          0.          0.51817355  0.51891966  0.41164053]\n",
            " [ 0.          1.          0.92027925  0.18178714  0.7490508 ]\n",
            " [ 1.          0.          0.83328523  0.79986343  0.95149696]\n",
            " [ 1.          0.          0.02327422  0.65939155  0.59384207]\n",
            " [ 0.          1.         -0.22997505 -0.60485541 -0.26318001]\n",
            " [ 1.          0.         -1.04191926 -0.35200601 -0.57359746]\n",
            " [ 1.          0.          0.01360822  0.2379759   0.05398564]\n",
            " [ 1.          0.          1.29145375  0.94033532  0.81653285]\n",
            " [ 1.          0.          0.89321445  1.13699595  1.21467697]\n",
            " [ 0.          1.          1.5021726   1.0808072   1.01897901]\n",
            " [ 1.          0.          0.29392229 -0.18343975  0.20919437]\n",
            " [ 0.          1.         -1.76686945 -2.29051801 -2.42260573]\n",
            " [ 0.          1.          1.51183861  1.83935537  1.64656211]\n",
            " [ 0.          1.         -0.12364902 -0.60485541 -0.26318001]\n",
            " [ 0.          1.          0.91641285  0.09750401  0.54660464]\n",
            " [ 0.          1.         -1.45949057 -1.02627106 -1.07296465]\n",
            " [ 1.          0.         -0.57601794 -0.32391164 -0.46562617]\n",
            " [ 1.          0.         -0.10431702  0.2379759   0.20919437]\n",
            " [ 1.          0.          1.64909584  0.79986343  0.7490508 ]\n",
            " [ 1.          0.          1.28372095  1.64269473  1.49135339]\n",
            " [ 0.          1.          1.41131218  1.64269473  1.55883544]\n",
            " [ 1.          0.          0.59356837  0.54701404  0.49261899]\n",
            " [ 0.          1.         -1.34929814 -1.58815859 -1.45761236]\n",
            " [ 0.          1.         -0.91046163 -0.23962851 -0.32391386]\n",
            " [ 1.          0.          0.11800104  0.79986343  0.61408669]\n",
            " [ 0.          1.         -0.09078461 -0.32391164 -0.39814412]\n",
            " [ 1.          0.         -0.58568394 -0.60485541 -0.66807233]\n",
            " [ 0.          1.          1.61043183  1.36175097  1.01897901]\n",
            " [ 1.          0.          1.61043183  1.22127908  0.81653285]\n",
            " [ 0.          1.         -0.85246561 -0.60485541 -0.53310822]\n",
            " [ 1.          0.         -1.10571488 -0.88579917 -0.93800055]\n",
            " [ 0.          1.          1.42484458  1.22127908  1.6263175 ]\n",
            " [ 0.          1.         -0.59534994 -0.18343975 -0.66807233]\n",
            " [ 0.          1.          1.13873091  0.32225903  0.58709387]\n",
            " [ 1.          0.         -1.49042178 -1.16674294 -1.47785698]\n",
            " [ 1.          0.         -1.09218247 -0.66104416 -0.53310822]\n",
            " [ 1.          0.         -0.0308554   0.51891966  0.27667642]\n",
            " [ 0.          1.          1.64716264  0.37844778  0.95149696]\n",
            " [ 0.          1.         -0.54895313 -0.88579917 -0.60059028]\n",
            " [ 1.          0.          0.82555243  1.41793972  1.27541082]\n",
            " [ 1.          0.          1.18319452  0.2379759   0.7490508 ]\n",
            " [ 0.          1.         -0.29570387 -0.35200601 -0.31716565]\n",
            " [ 1.          0.         -0.47549151 -0.32391164 -0.33066206]\n",
            " [ 1.          0.          0.3190539   1.0808072   0.81653285]\n",
            " [ 0.          1.         -0.8254008  -0.60485541 -0.38464771]\n",
            " [ 1.          0.         -0.55281953 -0.46438352 -0.33066206]\n",
            " [ 0.          1.         -0.57215154 -0.60485541 -0.33066206]\n",
            " [ 1.          0.         -0.51415552 -0.15534538 -0.27667642]\n",
            " [ 0.          1.          1.04593729  1.36175097  1.49135339]\n",
            " [ 1.          0.          0.59356837  0.54701404  0.49261899]\n",
            " [ 1.          0.         -0.78480359 -1.13864856 -0.60733848]\n",
            " [ 0.          1.         -1.2043081  -0.63294978 -0.80303644]\n",
            " [ 1.          0.         -0.4116959  -0.04296787 -0.26318001]\n",
            " [ 0.          1.          0.60516757  0.2379759   0.61408669]\n",
            " [ 1.          0.         -1.76686945 -2.29051801 -2.42260573]\n",
            " [ 0.          1.         -0.99358925  0.26607027 -0.26318001]\n",
            " [ 1.          0.          1.54470302  1.67078911  1.2551662 ]\n",
            " [ 0.          1.          1.65682865  1.30556221  1.22142517]\n",
            " [ 1.          0.         -0.0405214  -0.32391164 -0.1282159 ]\n",
            " [ 1.          0.         -1.76686945 -2.00957424 -2.35512368]\n",
            " [ 0.          1.          0.46211073  0.99652407  0.91100773]\n",
            " [ 1.          0.          0.40991432  0.94033532  0.18894975]\n",
            " [ 0.          1.         -0.4155623   0.2379759   0.27667642]\n",
            " [ 0.          1.         -1.11344768 -0.94198793 -0.73555439]\n",
            " [ 0.          1.         -1.76686945 -2.23432926 -2.49008778]\n",
            " [ 0.          1.          1.41904498  1.9236385   1.96372776]\n",
            " [ 1.          0.          0.16439785 -0.04296787  0.20919437]\n",
            " [ 0.          1.          0.46211073 -0.04296787  0.41164053]\n",
            " [ 0.          1.         -1.76686945 -2.34670676 -2.42260573]\n",
            " [ 1.          0.         -1.76686945 -2.29051801 -2.28764162]\n",
            " [ 0.          1.         -1.71467304 -1.72863048 -2.28764162]\n",
            " [ 0.          1.          0.82941883  0.2379759   0.14171231]\n",
            " [ 1.          0.         -0.00765699 -0.127251    0.04048923]\n",
            " [ 0.          1.         -0.83313361 -0.18343975 -0.2496836 ]\n",
            " [ 0.          1.          0.28038989 -0.127251   -0.11471949]\n",
            " [ 1.          0.          0.59550157  0.54701404  0.49261899]\n",
            " [ 0.          1.          1.43064419  0.79986343  0.68156874]\n",
            " [ 1.          0.         -0.92592723 -0.32391164 -0.73555439]\n",
            " [ 1.          0.         -0.16424623 -1.02627106 -0.87051849]\n",
            " [ 1.          0.         -0.34210068 -0.04296787 -0.1282159 ]\n",
            " [ 1.          0.         -0.59728314 -0.04296787  0.02024462]\n",
            " [ 1.          0.         -0.32083547 -0.15534538  0.14171231]\n",
            " [ 0.          1.         -1.13471288 -0.60485541 -0.66807233]\n",
            " [ 0.          1.         -0.85439881 -0.18343975 -0.2496836 ]\n",
            " [ 1.          0.         -0.02505579  0.2379759   0.51286361]\n",
            " [ 0.          1.         -1.37636295 -0.80151604 -0.99198619]\n",
            " [ 0.          1.          1.30111975  1.0808072   1.22142517]\n",
            " [ 0.          1.          1.05173689 -0.04296787  0.41164053]\n",
            " [ 1.          0.         -1.76686945 -2.29051801 -2.42260573]\n",
            " [ 0.          1.          0.76755641  0.51891966  0.61408669]\n",
            " [ 1.          0.          0.11800104  0.51891966  0.7490508 ]\n",
            " [ 1.          0.         -0.4329611  -0.09915662 -0.26318001]\n",
            " [ 1.          0.          0.29778869  0.88414656  0.68156874]\n",
            " [ 1.          0.          0.60323437  0.54701404  0.49261899]\n",
            " [ 0.          1.          0.7269592   0.79986343  0.76254721]]\n"
          ]
        }
      ]
    },
    {
      "cell_type": "markdown",
      "source": [
        "# **Model**"
      ],
      "metadata": {
        "id": "DCS9vdWsh-RD"
      }
    },
    {
      "cell_type": "code",
      "source": [
        "# Membuat Model\n",
        "from tensorflow.keras.models import Sequential\n",
        "from tensorflow.keras.layers import Dense\n",
        "\n",
        "model = Sequential()\n",
        "model.add(Dense(32, input_dim=len(x_train[0,:]), activation='relu'))\n",
        "model.add(Dense(1, activation='sigmoid'))\n",
        "\n",
        "model.compile(loss='binary_crossentropy', optimizer='adam', metrics=['accuracy'])"
      ],
      "metadata": {
        "id": "GchxFMvDh1iO"
      },
      "execution_count": null,
      "outputs": []
    },
    {
      "cell_type": "code",
      "source": [
        "print(model.summary())"
      ],
      "metadata": {
        "id": "JsbvV5HtiQdR",
        "colab": {
          "base_uri": "https://localhost:8080/"
        },
        "outputId": "d1f17499-6b95-4448-db47-0552e9d5cd50"
      },
      "execution_count": null,
      "outputs": [
        {
          "output_type": "stream",
          "name": "stdout",
          "text": [
            "Model: \"sequential_1\"\n",
            "_________________________________________________________________\n",
            " Layer (type)                Output Shape              Param #   \n",
            "=================================================================\n",
            " dense_2 (Dense)             (None, 32)                192       \n",
            "                                                                 \n",
            " dense_3 (Dense)             (None, 1)                 33        \n",
            "                                                                 \n",
            "=================================================================\n",
            "Total params: 225\n",
            "Trainable params: 225\n",
            "Non-trainable params: 0\n",
            "_________________________________________________________________\n",
            "None\n"
          ]
        }
      ]
    },
    {
      "cell_type": "code",
      "source": [
        "x_train =tf.convert_to_tensor(x_train, dtype=tf.float32)\n",
        "y_train =tf.convert_to_tensor(y_train, dtype=tf.float32)\n",
        "x_test = tf.convert_to_tensor(x_test, dtype=tf.float32)\n",
        "y_test = tf.convert_to_tensor(y_test, dtype=tf.float32)"
      ],
      "metadata": {
        "id": "zG1NZX6CXcRl"
      },
      "execution_count": null,
      "outputs": []
    },
    {
      "cell_type": "code",
      "source": [
        "history = model.fit(x_train, y_train, validation_data = (x_test, y_test), epochs=150, batch_size=32, verbose=1)"
      ],
      "metadata": {
        "colab": {
          "base_uri": "https://localhost:8080/"
        },
        "id": "_RQW0uxdVACH",
        "outputId": "fdcd5b56-5f66-437b-cc3f-9b907e56f31d"
      },
      "execution_count": null,
      "outputs": [
        {
          "output_type": "stream",
          "name": "stdout",
          "text": [
            "Epoch 1/150\n",
            "4/4 [==============================] - 1s 76ms/step - loss: 0.7454 - accuracy: 0.4608 - val_loss: 0.7536 - val_accuracy: 0.5385\n",
            "Epoch 2/150\n",
            "4/4 [==============================] - 0s 13ms/step - loss: 0.7338 - accuracy: 0.4804 - val_loss: 0.7429 - val_accuracy: 0.5385\n",
            "Epoch 3/150\n",
            "4/4 [==============================] - 0s 13ms/step - loss: 0.7244 - accuracy: 0.5000 - val_loss: 0.7319 - val_accuracy: 0.5385\n",
            "Epoch 4/150\n",
            "4/4 [==============================] - 0s 14ms/step - loss: 0.7150 - accuracy: 0.5000 - val_loss: 0.7209 - val_accuracy: 0.5385\n",
            "Epoch 5/150\n",
            "4/4 [==============================] - 0s 14ms/step - loss: 0.7062 - accuracy: 0.4804 - val_loss: 0.7113 - val_accuracy: 0.5000\n",
            "Epoch 6/150\n",
            "4/4 [==============================] - 0s 13ms/step - loss: 0.6987 - accuracy: 0.4804 - val_loss: 0.7025 - val_accuracy: 0.5385\n",
            "Epoch 7/150\n",
            "4/4 [==============================] - 0s 19ms/step - loss: 0.6908 - accuracy: 0.5000 - val_loss: 0.6934 - val_accuracy: 0.5385\n",
            "Epoch 8/150\n",
            "4/4 [==============================] - 0s 21ms/step - loss: 0.6847 - accuracy: 0.5196 - val_loss: 0.6845 - val_accuracy: 0.5385\n",
            "Epoch 9/150\n",
            "4/4 [==============================] - 0s 14ms/step - loss: 0.6770 - accuracy: 0.5392 - val_loss: 0.6773 - val_accuracy: 0.5385\n",
            "Epoch 10/150\n",
            "4/4 [==============================] - 0s 14ms/step - loss: 0.6712 - accuracy: 0.5490 - val_loss: 0.6705 - val_accuracy: 0.5385\n",
            "Epoch 11/150\n",
            "4/4 [==============================] - 0s 20ms/step - loss: 0.6659 - accuracy: 0.5588 - val_loss: 0.6637 - val_accuracy: 0.5385\n",
            "Epoch 12/150\n",
            "4/4 [==============================] - 0s 20ms/step - loss: 0.6608 - accuracy: 0.5588 - val_loss: 0.6573 - val_accuracy: 0.5385\n",
            "Epoch 13/150\n",
            "4/4 [==============================] - 0s 14ms/step - loss: 0.6560 - accuracy: 0.5784 - val_loss: 0.6523 - val_accuracy: 0.5385\n",
            "Epoch 14/150\n",
            "4/4 [==============================] - 0s 14ms/step - loss: 0.6518 - accuracy: 0.5980 - val_loss: 0.6473 - val_accuracy: 0.5385\n",
            "Epoch 15/150\n",
            "4/4 [==============================] - 0s 14ms/step - loss: 0.6481 - accuracy: 0.5980 - val_loss: 0.6424 - val_accuracy: 0.5385\n",
            "Epoch 16/150\n",
            "4/4 [==============================] - 0s 20ms/step - loss: 0.6443 - accuracy: 0.6078 - val_loss: 0.6378 - val_accuracy: 0.5385\n",
            "Epoch 17/150\n",
            "4/4 [==============================] - 0s 16ms/step - loss: 0.6412 - accuracy: 0.6078 - val_loss: 0.6330 - val_accuracy: 0.5385\n",
            "Epoch 18/150\n",
            "4/4 [==============================] - 0s 13ms/step - loss: 0.6377 - accuracy: 0.6078 - val_loss: 0.6293 - val_accuracy: 0.5769\n",
            "Epoch 19/150\n",
            "4/4 [==============================] - 0s 14ms/step - loss: 0.6345 - accuracy: 0.6078 - val_loss: 0.6264 - val_accuracy: 0.6154\n",
            "Epoch 20/150\n",
            "4/4 [==============================] - 0s 13ms/step - loss: 0.6314 - accuracy: 0.6078 - val_loss: 0.6239 - val_accuracy: 0.6538\n",
            "Epoch 21/150\n",
            "4/4 [==============================] - 0s 20ms/step - loss: 0.6284 - accuracy: 0.6176 - val_loss: 0.6210 - val_accuracy: 0.6538\n",
            "Epoch 22/150\n",
            "4/4 [==============================] - 0s 14ms/step - loss: 0.6255 - accuracy: 0.6667 - val_loss: 0.6176 - val_accuracy: 0.6923\n",
            "Epoch 23/150\n",
            "4/4 [==============================] - 0s 20ms/step - loss: 0.6226 - accuracy: 0.6765 - val_loss: 0.6145 - val_accuracy: 0.6923\n",
            "Epoch 24/150\n",
            "4/4 [==============================] - 0s 13ms/step - loss: 0.6200 - accuracy: 0.6863 - val_loss: 0.6107 - val_accuracy: 0.7692\n",
            "Epoch 25/150\n",
            "4/4 [==============================] - 0s 21ms/step - loss: 0.6172 - accuracy: 0.7059 - val_loss: 0.6071 - val_accuracy: 0.7692\n",
            "Epoch 26/150\n",
            "4/4 [==============================] - 0s 18ms/step - loss: 0.6147 - accuracy: 0.7157 - val_loss: 0.6034 - val_accuracy: 0.7692\n",
            "Epoch 27/150\n",
            "4/4 [==============================] - 0s 13ms/step - loss: 0.6121 - accuracy: 0.7353 - val_loss: 0.6006 - val_accuracy: 0.7692\n",
            "Epoch 28/150\n",
            "4/4 [==============================] - 0s 23ms/step - loss: 0.6092 - accuracy: 0.7353 - val_loss: 0.5982 - val_accuracy: 0.7308\n",
            "Epoch 29/150\n",
            "4/4 [==============================] - 0s 14ms/step - loss: 0.6069 - accuracy: 0.7255 - val_loss: 0.5962 - val_accuracy: 0.7308\n",
            "Epoch 30/150\n",
            "4/4 [==============================] - 0s 13ms/step - loss: 0.6043 - accuracy: 0.7255 - val_loss: 0.5940 - val_accuracy: 0.7308\n",
            "Epoch 31/150\n",
            "4/4 [==============================] - 0s 13ms/step - loss: 0.6019 - accuracy: 0.7255 - val_loss: 0.5918 - val_accuracy: 0.7308\n",
            "Epoch 32/150\n",
            "4/4 [==============================] - 0s 13ms/step - loss: 0.5994 - accuracy: 0.7255 - val_loss: 0.5889 - val_accuracy: 0.7308\n",
            "Epoch 33/150\n",
            "4/4 [==============================] - 0s 15ms/step - loss: 0.5969 - accuracy: 0.7353 - val_loss: 0.5863 - val_accuracy: 0.7308\n",
            "Epoch 34/150\n",
            "4/4 [==============================] - 0s 13ms/step - loss: 0.5948 - accuracy: 0.7451 - val_loss: 0.5845 - val_accuracy: 0.7308\n",
            "Epoch 35/150\n",
            "4/4 [==============================] - 0s 14ms/step - loss: 0.5923 - accuracy: 0.7451 - val_loss: 0.5819 - val_accuracy: 0.7308\n",
            "Epoch 36/150\n",
            "4/4 [==============================] - 0s 14ms/step - loss: 0.5901 - accuracy: 0.7451 - val_loss: 0.5794 - val_accuracy: 0.7308\n",
            "Epoch 37/150\n",
            "4/4 [==============================] - 0s 14ms/step - loss: 0.5876 - accuracy: 0.7451 - val_loss: 0.5773 - val_accuracy: 0.7308\n",
            "Epoch 38/150\n",
            "4/4 [==============================] - 0s 13ms/step - loss: 0.5851 - accuracy: 0.7549 - val_loss: 0.5753 - val_accuracy: 0.7308\n",
            "Epoch 39/150\n",
            "4/4 [==============================] - 0s 13ms/step - loss: 0.5830 - accuracy: 0.7549 - val_loss: 0.5733 - val_accuracy: 0.7308\n",
            "Epoch 40/150\n",
            "4/4 [==============================] - 0s 19ms/step - loss: 0.5806 - accuracy: 0.7549 - val_loss: 0.5716 - val_accuracy: 0.7308\n",
            "Epoch 41/150\n",
            "4/4 [==============================] - 0s 15ms/step - loss: 0.5782 - accuracy: 0.7549 - val_loss: 0.5692 - val_accuracy: 0.7308\n",
            "Epoch 42/150\n",
            "4/4 [==============================] - 0s 20ms/step - loss: 0.5759 - accuracy: 0.7549 - val_loss: 0.5664 - val_accuracy: 0.7308\n",
            "Epoch 43/150\n",
            "4/4 [==============================] - 0s 16ms/step - loss: 0.5734 - accuracy: 0.7451 - val_loss: 0.5635 - val_accuracy: 0.7308\n",
            "Epoch 44/150\n",
            "4/4 [==============================] - 0s 20ms/step - loss: 0.5709 - accuracy: 0.7549 - val_loss: 0.5606 - val_accuracy: 0.7308\n",
            "Epoch 45/150\n",
            "4/4 [==============================] - 0s 23ms/step - loss: 0.5681 - accuracy: 0.7451 - val_loss: 0.5577 - val_accuracy: 0.7308\n",
            "Epoch 46/150\n",
            "4/4 [==============================] - 0s 23ms/step - loss: 0.5656 - accuracy: 0.7451 - val_loss: 0.5547 - val_accuracy: 0.7308\n",
            "Epoch 47/150\n",
            "4/4 [==============================] - 0s 14ms/step - loss: 0.5632 - accuracy: 0.7647 - val_loss: 0.5513 - val_accuracy: 0.7308\n",
            "Epoch 48/150\n",
            "4/4 [==============================] - 0s 14ms/step - loss: 0.5603 - accuracy: 0.7745 - val_loss: 0.5492 - val_accuracy: 0.7308\n",
            "Epoch 49/150\n",
            "4/4 [==============================] - 0s 20ms/step - loss: 0.5578 - accuracy: 0.7843 - val_loss: 0.5472 - val_accuracy: 0.7308\n",
            "Epoch 50/150\n",
            "4/4 [==============================] - 0s 20ms/step - loss: 0.5556 - accuracy: 0.7843 - val_loss: 0.5447 - val_accuracy: 0.7308\n",
            "Epoch 51/150\n",
            "4/4 [==============================] - 0s 15ms/step - loss: 0.5529 - accuracy: 0.7843 - val_loss: 0.5422 - val_accuracy: 0.7308\n",
            "Epoch 52/150\n",
            "4/4 [==============================] - 0s 19ms/step - loss: 0.5506 - accuracy: 0.7843 - val_loss: 0.5398 - val_accuracy: 0.7308\n",
            "Epoch 53/150\n",
            "4/4 [==============================] - 0s 14ms/step - loss: 0.5483 - accuracy: 0.7843 - val_loss: 0.5371 - val_accuracy: 0.7308\n",
            "Epoch 54/150\n",
            "4/4 [==============================] - 0s 19ms/step - loss: 0.5462 - accuracy: 0.7745 - val_loss: 0.5345 - val_accuracy: 0.7308\n",
            "Epoch 55/150\n",
            "4/4 [==============================] - 0s 20ms/step - loss: 0.5435 - accuracy: 0.7843 - val_loss: 0.5329 - val_accuracy: 0.7692\n",
            "Epoch 56/150\n",
            "4/4 [==============================] - 0s 13ms/step - loss: 0.5414 - accuracy: 0.7843 - val_loss: 0.5321 - val_accuracy: 0.7692\n",
            "Epoch 57/150\n",
            "4/4 [==============================] - 0s 21ms/step - loss: 0.5386 - accuracy: 0.7941 - val_loss: 0.5310 - val_accuracy: 0.7692\n",
            "Epoch 58/150\n",
            "4/4 [==============================] - 0s 14ms/step - loss: 0.5365 - accuracy: 0.8039 - val_loss: 0.5306 - val_accuracy: 0.7692\n",
            "Epoch 59/150\n",
            "4/4 [==============================] - 0s 20ms/step - loss: 0.5345 - accuracy: 0.8039 - val_loss: 0.5295 - val_accuracy: 0.7692\n",
            "Epoch 60/150\n",
            "4/4 [==============================] - 0s 17ms/step - loss: 0.5327 - accuracy: 0.8039 - val_loss: 0.5282 - val_accuracy: 0.7692\n",
            "Epoch 61/150\n",
            "4/4 [==============================] - 0s 16ms/step - loss: 0.5306 - accuracy: 0.8039 - val_loss: 0.5266 - val_accuracy: 0.7692\n",
            "Epoch 62/150\n",
            "4/4 [==============================] - 0s 15ms/step - loss: 0.5289 - accuracy: 0.8039 - val_loss: 0.5244 - val_accuracy: 0.7692\n",
            "Epoch 63/150\n",
            "4/4 [==============================] - 0s 17ms/step - loss: 0.5266 - accuracy: 0.8137 - val_loss: 0.5212 - val_accuracy: 0.7692\n",
            "Epoch 64/150\n",
            "4/4 [==============================] - 0s 15ms/step - loss: 0.5245 - accuracy: 0.8039 - val_loss: 0.5183 - val_accuracy: 0.7692\n",
            "Epoch 65/150\n",
            "4/4 [==============================] - 0s 21ms/step - loss: 0.5221 - accuracy: 0.8235 - val_loss: 0.5161 - val_accuracy: 0.7692\n",
            "Epoch 66/150\n",
            "4/4 [==============================] - 0s 22ms/step - loss: 0.5198 - accuracy: 0.8137 - val_loss: 0.5137 - val_accuracy: 0.7692\n",
            "Epoch 67/150\n",
            "4/4 [==============================] - 0s 14ms/step - loss: 0.5176 - accuracy: 0.8137 - val_loss: 0.5113 - val_accuracy: 0.7692\n",
            "Epoch 68/150\n",
            "4/4 [==============================] - 0s 14ms/step - loss: 0.5155 - accuracy: 0.8137 - val_loss: 0.5092 - val_accuracy: 0.7692\n",
            "Epoch 69/150\n",
            "4/4 [==============================] - 0s 14ms/step - loss: 0.5135 - accuracy: 0.8137 - val_loss: 0.5078 - val_accuracy: 0.7692\n",
            "Epoch 70/150\n",
            "4/4 [==============================] - 0s 19ms/step - loss: 0.5114 - accuracy: 0.8235 - val_loss: 0.5054 - val_accuracy: 0.7692\n",
            "Epoch 71/150\n",
            "4/4 [==============================] - 0s 20ms/step - loss: 0.5090 - accuracy: 0.8235 - val_loss: 0.5022 - val_accuracy: 0.7692\n",
            "Epoch 72/150\n",
            "4/4 [==============================] - 0s 21ms/step - loss: 0.5068 - accuracy: 0.8137 - val_loss: 0.4990 - val_accuracy: 0.7692\n",
            "Epoch 73/150\n",
            "4/4 [==============================] - 0s 13ms/step - loss: 0.5046 - accuracy: 0.8333 - val_loss: 0.4965 - val_accuracy: 0.7692\n",
            "Epoch 74/150\n",
            "4/4 [==============================] - 0s 21ms/step - loss: 0.5027 - accuracy: 0.8333 - val_loss: 0.4937 - val_accuracy: 0.7692\n",
            "Epoch 75/150\n",
            "4/4 [==============================] - 0s 14ms/step - loss: 0.5005 - accuracy: 0.8333 - val_loss: 0.4907 - val_accuracy: 0.7692\n",
            "Epoch 76/150\n",
            "4/4 [==============================] - 0s 15ms/step - loss: 0.4988 - accuracy: 0.8333 - val_loss: 0.4881 - val_accuracy: 0.7692\n",
            "Epoch 77/150\n",
            "4/4 [==============================] - 0s 14ms/step - loss: 0.4965 - accuracy: 0.8333 - val_loss: 0.4869 - val_accuracy: 0.7692\n",
            "Epoch 78/150\n",
            "4/4 [==============================] - 0s 16ms/step - loss: 0.4947 - accuracy: 0.8431 - val_loss: 0.4853 - val_accuracy: 0.7692\n",
            "Epoch 79/150\n",
            "4/4 [==============================] - 0s 15ms/step - loss: 0.4926 - accuracy: 0.8431 - val_loss: 0.4834 - val_accuracy: 0.7692\n",
            "Epoch 80/150\n",
            "4/4 [==============================] - 0s 21ms/step - loss: 0.4906 - accuracy: 0.8431 - val_loss: 0.4814 - val_accuracy: 0.7692\n",
            "Epoch 81/150\n",
            "4/4 [==============================] - 0s 14ms/step - loss: 0.4888 - accuracy: 0.8431 - val_loss: 0.4800 - val_accuracy: 0.7692\n",
            "Epoch 82/150\n",
            "4/4 [==============================] - 0s 13ms/step - loss: 0.4868 - accuracy: 0.8529 - val_loss: 0.4791 - val_accuracy: 0.7692\n",
            "Epoch 83/150\n",
            "4/4 [==============================] - 0s 16ms/step - loss: 0.4851 - accuracy: 0.8529 - val_loss: 0.4772 - val_accuracy: 0.7692\n",
            "Epoch 84/150\n",
            "4/4 [==============================] - 0s 16ms/step - loss: 0.4831 - accuracy: 0.8529 - val_loss: 0.4750 - val_accuracy: 0.7692\n",
            "Epoch 85/150\n",
            "4/4 [==============================] - 0s 14ms/step - loss: 0.4807 - accuracy: 0.8529 - val_loss: 0.4728 - val_accuracy: 0.7692\n",
            "Epoch 86/150\n",
            "4/4 [==============================] - 0s 14ms/step - loss: 0.4788 - accuracy: 0.8529 - val_loss: 0.4702 - val_accuracy: 0.7692\n",
            "Epoch 87/150\n",
            "4/4 [==============================] - 0s 13ms/step - loss: 0.4762 - accuracy: 0.8529 - val_loss: 0.4677 - val_accuracy: 0.7692\n",
            "Epoch 88/150\n",
            "4/4 [==============================] - 0s 13ms/step - loss: 0.4741 - accuracy: 0.8529 - val_loss: 0.4647 - val_accuracy: 0.7692\n",
            "Epoch 89/150\n",
            "4/4 [==============================] - 0s 13ms/step - loss: 0.4718 - accuracy: 0.8529 - val_loss: 0.4621 - val_accuracy: 0.7692\n",
            "Epoch 90/150\n",
            "4/4 [==============================] - 0s 15ms/step - loss: 0.4697 - accuracy: 0.8529 - val_loss: 0.4596 - val_accuracy: 0.7692\n",
            "Epoch 91/150\n",
            "4/4 [==============================] - 0s 13ms/step - loss: 0.4676 - accuracy: 0.8333 - val_loss: 0.4571 - val_accuracy: 0.8077\n",
            "Epoch 92/150\n",
            "4/4 [==============================] - 0s 15ms/step - loss: 0.4657 - accuracy: 0.8235 - val_loss: 0.4546 - val_accuracy: 0.8077\n",
            "Epoch 93/150\n",
            "4/4 [==============================] - 0s 17ms/step - loss: 0.4632 - accuracy: 0.8235 - val_loss: 0.4519 - val_accuracy: 0.7692\n",
            "Epoch 94/150\n",
            "4/4 [==============================] - 0s 17ms/step - loss: 0.4613 - accuracy: 0.8235 - val_loss: 0.4492 - val_accuracy: 0.7692\n",
            "Epoch 95/150\n",
            "4/4 [==============================] - 0s 21ms/step - loss: 0.4591 - accuracy: 0.8235 - val_loss: 0.4473 - val_accuracy: 0.7692\n",
            "Epoch 96/150\n",
            "4/4 [==============================] - 0s 15ms/step - loss: 0.4571 - accuracy: 0.8333 - val_loss: 0.4454 - val_accuracy: 0.7692\n",
            "Epoch 97/150\n",
            "4/4 [==============================] - 0s 20ms/step - loss: 0.4548 - accuracy: 0.8333 - val_loss: 0.4435 - val_accuracy: 0.7692\n",
            "Epoch 98/150\n",
            "4/4 [==============================] - 0s 14ms/step - loss: 0.4524 - accuracy: 0.8333 - val_loss: 0.4414 - val_accuracy: 0.7692\n",
            "Epoch 99/150\n",
            "4/4 [==============================] - 0s 15ms/step - loss: 0.4498 - accuracy: 0.8333 - val_loss: 0.4396 - val_accuracy: 0.7692\n",
            "Epoch 100/150\n",
            "4/4 [==============================] - 0s 21ms/step - loss: 0.4472 - accuracy: 0.8431 - val_loss: 0.4386 - val_accuracy: 0.7692\n",
            "Epoch 101/150\n",
            "4/4 [==============================] - 0s 15ms/step - loss: 0.4447 - accuracy: 0.8431 - val_loss: 0.4377 - val_accuracy: 0.7692\n",
            "Epoch 102/150\n",
            "4/4 [==============================] - 0s 15ms/step - loss: 0.4422 - accuracy: 0.8431 - val_loss: 0.4369 - val_accuracy: 0.8077\n",
            "Epoch 103/150\n",
            "4/4 [==============================] - 0s 14ms/step - loss: 0.4408 - accuracy: 0.8431 - val_loss: 0.4358 - val_accuracy: 0.8077\n",
            "Epoch 104/150\n",
            "4/4 [==============================] - 0s 15ms/step - loss: 0.4384 - accuracy: 0.8529 - val_loss: 0.4341 - val_accuracy: 0.8077\n",
            "Epoch 105/150\n",
            "4/4 [==============================] - 0s 22ms/step - loss: 0.4367 - accuracy: 0.8529 - val_loss: 0.4334 - val_accuracy: 0.8077\n",
            "Epoch 106/150\n",
            "4/4 [==============================] - 0s 14ms/step - loss: 0.4345 - accuracy: 0.8529 - val_loss: 0.4316 - val_accuracy: 0.8077\n",
            "Epoch 107/150\n",
            "4/4 [==============================] - 0s 16ms/step - loss: 0.4324 - accuracy: 0.8431 - val_loss: 0.4303 - val_accuracy: 0.8077\n",
            "Epoch 108/150\n",
            "4/4 [==============================] - 0s 15ms/step - loss: 0.4310 - accuracy: 0.8333 - val_loss: 0.4293 - val_accuracy: 0.8462\n",
            "Epoch 109/150\n",
            "4/4 [==============================] - 0s 14ms/step - loss: 0.4290 - accuracy: 0.8529 - val_loss: 0.4277 - val_accuracy: 0.8077\n",
            "Epoch 110/150\n",
            "4/4 [==============================] - 0s 17ms/step - loss: 0.4274 - accuracy: 0.8529 - val_loss: 0.4259 - val_accuracy: 0.8077\n",
            "Epoch 111/150\n",
            "4/4 [==============================] - 0s 20ms/step - loss: 0.4257 - accuracy: 0.8529 - val_loss: 0.4237 - val_accuracy: 0.8077\n",
            "Epoch 112/150\n",
            "4/4 [==============================] - 0s 14ms/step - loss: 0.4237 - accuracy: 0.8529 - val_loss: 0.4202 - val_accuracy: 0.8077\n",
            "Epoch 113/150\n",
            "4/4 [==============================] - 0s 14ms/step - loss: 0.4217 - accuracy: 0.8529 - val_loss: 0.4170 - val_accuracy: 0.8077\n",
            "Epoch 114/150\n",
            "4/4 [==============================] - 0s 21ms/step - loss: 0.4197 - accuracy: 0.8529 - val_loss: 0.4142 - val_accuracy: 0.8077\n",
            "Epoch 115/150\n",
            "4/4 [==============================] - 0s 15ms/step - loss: 0.4181 - accuracy: 0.8529 - val_loss: 0.4115 - val_accuracy: 0.8077\n",
            "Epoch 116/150\n",
            "4/4 [==============================] - 0s 14ms/step - loss: 0.4161 - accuracy: 0.8529 - val_loss: 0.4089 - val_accuracy: 0.8077\n",
            "Epoch 117/150\n",
            "4/4 [==============================] - 0s 13ms/step - loss: 0.4142 - accuracy: 0.8529 - val_loss: 0.4067 - val_accuracy: 0.8077\n",
            "Epoch 118/150\n",
            "4/4 [==============================] - 0s 15ms/step - loss: 0.4125 - accuracy: 0.8529 - val_loss: 0.4047 - val_accuracy: 0.8077\n",
            "Epoch 119/150\n",
            "4/4 [==============================] - 0s 17ms/step - loss: 0.4107 - accuracy: 0.8529 - val_loss: 0.4029 - val_accuracy: 0.8077\n",
            "Epoch 120/150\n",
            "4/4 [==============================] - 0s 14ms/step - loss: 0.4088 - accuracy: 0.8627 - val_loss: 0.4015 - val_accuracy: 0.8077\n",
            "Epoch 121/150\n",
            "4/4 [==============================] - 0s 14ms/step - loss: 0.4070 - accuracy: 0.8529 - val_loss: 0.4003 - val_accuracy: 0.7692\n",
            "Epoch 122/150\n",
            "4/4 [==============================] - 0s 16ms/step - loss: 0.4050 - accuracy: 0.8529 - val_loss: 0.3987 - val_accuracy: 0.7692\n",
            "Epoch 123/150\n",
            "4/4 [==============================] - 0s 21ms/step - loss: 0.4032 - accuracy: 0.8431 - val_loss: 0.3970 - val_accuracy: 0.8077\n",
            "Epoch 124/150\n",
            "4/4 [==============================] - 0s 15ms/step - loss: 0.4010 - accuracy: 0.8529 - val_loss: 0.3959 - val_accuracy: 0.8077\n",
            "Epoch 125/150\n",
            "4/4 [==============================] - 0s 22ms/step - loss: 0.3992 - accuracy: 0.8431 - val_loss: 0.3951 - val_accuracy: 0.7692\n",
            "Epoch 126/150\n",
            "4/4 [==============================] - 0s 24ms/step - loss: 0.3970 - accuracy: 0.8431 - val_loss: 0.3948 - val_accuracy: 0.8077\n",
            "Epoch 127/150\n",
            "4/4 [==============================] - 0s 24ms/step - loss: 0.3956 - accuracy: 0.8529 - val_loss: 0.3939 - val_accuracy: 0.8077\n",
            "Epoch 128/150\n",
            "4/4 [==============================] - 0s 14ms/step - loss: 0.3933 - accuracy: 0.8529 - val_loss: 0.3921 - val_accuracy: 0.8077\n",
            "Epoch 129/150\n",
            "4/4 [==============================] - 0s 14ms/step - loss: 0.3915 - accuracy: 0.8529 - val_loss: 0.3901 - val_accuracy: 0.8462\n",
            "Epoch 130/150\n",
            "4/4 [==============================] - 0s 14ms/step - loss: 0.3901 - accuracy: 0.8529 - val_loss: 0.3884 - val_accuracy: 0.8077\n",
            "Epoch 131/150\n",
            "4/4 [==============================] - 0s 14ms/step - loss: 0.3882 - accuracy: 0.8627 - val_loss: 0.3882 - val_accuracy: 0.8077\n",
            "Epoch 132/150\n",
            "4/4 [==============================] - 0s 14ms/step - loss: 0.3862 - accuracy: 0.8627 - val_loss: 0.3875 - val_accuracy: 0.8462\n",
            "Epoch 133/150\n",
            "4/4 [==============================] - 0s 14ms/step - loss: 0.3848 - accuracy: 0.8627 - val_loss: 0.3866 - val_accuracy: 0.8462\n",
            "Epoch 134/150\n",
            "4/4 [==============================] - 0s 14ms/step - loss: 0.3831 - accuracy: 0.8627 - val_loss: 0.3850 - val_accuracy: 0.8462\n",
            "Epoch 135/150\n",
            "4/4 [==============================] - 0s 15ms/step - loss: 0.3819 - accuracy: 0.8725 - val_loss: 0.3833 - val_accuracy: 0.8462\n",
            "Epoch 136/150\n",
            "4/4 [==============================] - 0s 21ms/step - loss: 0.3803 - accuracy: 0.8725 - val_loss: 0.3811 - val_accuracy: 0.8462\n",
            "Epoch 137/150\n",
            "4/4 [==============================] - 0s 20ms/step - loss: 0.3790 - accuracy: 0.8725 - val_loss: 0.3786 - val_accuracy: 0.8462\n",
            "Epoch 138/150\n",
            "4/4 [==============================] - 0s 14ms/step - loss: 0.3773 - accuracy: 0.8627 - val_loss: 0.3764 - val_accuracy: 0.8462\n",
            "Epoch 139/150\n",
            "4/4 [==============================] - 0s 20ms/step - loss: 0.3758 - accuracy: 0.8627 - val_loss: 0.3748 - val_accuracy: 0.8462\n",
            "Epoch 140/150\n",
            "4/4 [==============================] - 0s 22ms/step - loss: 0.3745 - accuracy: 0.8627 - val_loss: 0.3740 - val_accuracy: 0.8462\n",
            "Epoch 141/150\n",
            "4/4 [==============================] - 0s 21ms/step - loss: 0.3731 - accuracy: 0.8627 - val_loss: 0.3724 - val_accuracy: 0.8462\n",
            "Epoch 142/150\n",
            "4/4 [==============================] - 0s 27ms/step - loss: 0.3715 - accuracy: 0.8627 - val_loss: 0.3699 - val_accuracy: 0.8462\n",
            "Epoch 143/150\n",
            "4/4 [==============================] - 0s 29ms/step - loss: 0.3701 - accuracy: 0.8627 - val_loss: 0.3675 - val_accuracy: 0.8462\n",
            "Epoch 144/150\n",
            "4/4 [==============================] - 0s 32ms/step - loss: 0.3687 - accuracy: 0.8627 - val_loss: 0.3657 - val_accuracy: 0.8462\n",
            "Epoch 145/150\n",
            "4/4 [==============================] - 0s 19ms/step - loss: 0.3675 - accuracy: 0.8529 - val_loss: 0.3636 - val_accuracy: 0.8462\n",
            "Epoch 146/150\n",
            "4/4 [==============================] - 0s 24ms/step - loss: 0.3662 - accuracy: 0.8627 - val_loss: 0.3624 - val_accuracy: 0.8462\n",
            "Epoch 147/150\n",
            "4/4 [==============================] - 0s 27ms/step - loss: 0.3652 - accuracy: 0.8627 - val_loss: 0.3614 - val_accuracy: 0.8462\n",
            "Epoch 148/150\n",
            "4/4 [==============================] - 0s 27ms/step - loss: 0.3637 - accuracy: 0.8627 - val_loss: 0.3594 - val_accuracy: 0.8462\n",
            "Epoch 149/150\n",
            "4/4 [==============================] - 0s 20ms/step - loss: 0.3623 - accuracy: 0.8529 - val_loss: 0.3576 - val_accuracy: 0.8462\n",
            "Epoch 150/150\n",
            "4/4 [==============================] - 0s 27ms/step - loss: 0.3612 - accuracy: 0.8529 - val_loss: 0.3563 - val_accuracy: 0.8462\n"
          ]
        }
      ]
    },
    {
      "cell_type": "code",
      "source": [
        "loss, accuracy = model.evaluate(x_test, y_test, verbose=0)\n",
        "print('Loss:', loss)\n",
        "print('Accuracy:', accuracy)"
      ],
      "metadata": {
        "colab": {
          "base_uri": "https://localhost:8080/"
        },
        "id": "xZ0sUy5yXB3Z",
        "outputId": "1f7d56bf-d0c5-4a50-a87b-9b9f067d0043"
      },
      "execution_count": null,
      "outputs": [
        {
          "output_type": "stream",
          "name": "stdout",
          "text": [
            "Loss: 0.3562883734703064\n",
            "Accuracy: 0.8461538553237915\n"
          ]
        }
      ]
    },
    {
      "cell_type": "code",
      "source": [
        "model.save('model.h5')"
      ],
      "metadata": {
        "id": "so1GgjSSYslQ"
      },
      "execution_count": null,
      "outputs": []
    },
    {
      "cell_type": "code",
      "source": [],
      "metadata": {
        "id": "KAN7TOA4LgnD"
      },
      "execution_count": null,
      "outputs": []
    }
  ]
}